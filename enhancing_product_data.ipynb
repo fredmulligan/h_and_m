{
 "cells": [
  {
   "cell_type": "code",
   "execution_count": 1,
   "id": "11048f01-ae5e-4d65-98bd-9f44d05b893d",
   "metadata": {},
   "outputs": [],
   "source": [
    "import pandas as pd\n",
    "# import matplotlib.pyplot as plt\n",
    "# import seaborn as sns\n",
    "import numpy as np\n",
    "# import math \n",
    "import os"
   ]
  },
  {
   "cell_type": "code",
   "execution_count": 2,
   "id": "61326fbf-f525-49aa-a1ea-5ba1ddc8090f",
   "metadata": {},
   "outputs": [],
   "source": [
    "transactions_data_path=\"kaggle_data/transactions_train.csv\""
   ]
  },
  {
   "cell_type": "code",
   "execution_count": 3,
   "id": "579a8037-34a8-4c25-9e40-01e0e426491e",
   "metadata": {},
   "outputs": [],
   "source": [
    "transactions=pd.read_csv(transactions_data_path)\n",
    "transactions['t_dat']=transactions['t_dat'].astype('datetime64[ns]')"
   ]
  },
  {
   "cell_type": "code",
   "execution_count": 4,
   "id": "aaccb1e8-163e-4483-a6a1-e18ef6136176",
   "metadata": {},
   "outputs": [
    {
     "data": {
      "text/html": [
       "<div>\n",
       "<style scoped>\n",
       "    .dataframe tbody tr th:only-of-type {\n",
       "        vertical-align: middle;\n",
       "    }\n",
       "\n",
       "    .dataframe tbody tr th {\n",
       "        vertical-align: top;\n",
       "    }\n",
       "\n",
       "    .dataframe thead th {\n",
       "        text-align: right;\n",
       "    }\n",
       "</style>\n",
       "<table border=\"1\" class=\"dataframe\">\n",
       "  <thead>\n",
       "    <tr style=\"text-align: right;\">\n",
       "      <th></th>\n",
       "      <th>article_id</th>\n",
       "      <th>price_mean</th>\n",
       "      <th>price_min</th>\n",
       "      <th>price_max</th>\n",
       "      <th>t_dat_min</th>\n",
       "      <th>t_dat_max</th>\n",
       "      <th>article_id_count</th>\n",
       "    </tr>\n",
       "  </thead>\n",
       "  <tbody>\n",
       "    <tr>\n",
       "      <th>0</th>\n",
       "      <td>108775015</td>\n",
       "      <td>0.008142</td>\n",
       "      <td>0.001339</td>\n",
       "      <td>0.009153</td>\n",
       "      <td>2018-09-20</td>\n",
       "      <td>2020-07-22</td>\n",
       "      <td>10841</td>\n",
       "    </tr>\n",
       "    <tr>\n",
       "      <th>1</th>\n",
       "      <td>108775044</td>\n",
       "      <td>0.008114</td>\n",
       "      <td>0.001424</td>\n",
       "      <td>0.008508</td>\n",
       "      <td>2018-09-20</td>\n",
       "      <td>2020-09-20</td>\n",
       "      <td>7250</td>\n",
       "    </tr>\n",
       "  </tbody>\n",
       "</table>\n",
       "</div>"
      ],
      "text/plain": [
       "   article_id  price_mean  price_min  price_max  t_dat_min  t_dat_max  \\\n",
       "0   108775015    0.008142   0.001339   0.009153 2018-09-20 2020-07-22   \n",
       "1   108775044    0.008114   0.001424   0.008508 2018-09-20 2020-09-20   \n",
       "\n",
       "   article_id_count  \n",
       "0             10841  \n",
       "1              7250  "
      ]
     },
     "execution_count": 4,
     "metadata": {},
     "output_type": "execute_result"
    }
   ],
   "source": [
    "article_price = (\n",
    "    transactions\n",
    "    .groupby('article_id')             # Group by products\n",
    "    .agg({'price': ['mean','min','max'],'t_dat': ['min','max'],'article_id':['count']}) \n",
    "    .reset_index()\n",
    ")\n",
    "\n",
    "article_price.columns = ['_'.join(col) for col in article_price.columns.values]\n",
    "article_price= article_price.rename({\"article_id_\": \"article_id\"}, axis=1) \n",
    "article_price.head(2)"
   ]
  },
  {
   "cell_type": "code",
   "execution_count": 5,
   "id": "3d8373d5-a5c7-4876-80ed-b4ae4829565b",
   "metadata": {},
   "outputs": [
    {
     "data": {
      "text/plain": [
       "article_id                   int64\n",
       "price_mean                 float64\n",
       "price_min                  float64\n",
       "price_max                  float64\n",
       "t_dat_min           datetime64[ns]\n",
       "t_dat_max           datetime64[ns]\n",
       "article_id_count             int64\n",
       "dtype: object"
      ]
     },
     "execution_count": 5,
     "metadata": {},
     "output_type": "execute_result"
    }
   ],
   "source": [
    "article_price.dtypes"
   ]
  },
  {
   "cell_type": "code",
   "execution_count": 6,
   "id": "9ed7b693-68bb-4b0b-8a8c-2b0a434bf51a",
   "metadata": {},
   "outputs": [],
   "source": [
    "products_data_path=\"kaggle_data/articles.csv\""
   ]
  },
  {
   "cell_type": "code",
   "execution_count": 7,
   "id": "480f5ee7-829f-4cec-bb3c-77371b762acf",
   "metadata": {},
   "outputs": [],
   "source": [
    "products=pd.read_csv(products_data_path)"
   ]
  },
  {
   "cell_type": "code",
   "execution_count": 8,
   "id": "d9132dd2-64c8-45a7-871f-18c5ae733a8f",
   "metadata": {},
   "outputs": [
    {
     "data": {
      "text/html": [
       "<div>\n",
       "<style scoped>\n",
       "    .dataframe tbody tr th:only-of-type {\n",
       "        vertical-align: middle;\n",
       "    }\n",
       "\n",
       "    .dataframe tbody tr th {\n",
       "        vertical-align: top;\n",
       "    }\n",
       "\n",
       "    .dataframe thead th {\n",
       "        text-align: right;\n",
       "    }\n",
       "</style>\n",
       "<table border=\"1\" class=\"dataframe\">\n",
       "  <thead>\n",
       "    <tr style=\"text-align: right;\">\n",
       "      <th></th>\n",
       "      <th>article_id</th>\n",
       "      <th>product_code</th>\n",
       "      <th>prod_name</th>\n",
       "      <th>product_type_no</th>\n",
       "      <th>product_type_name</th>\n",
       "      <th>product_group_name</th>\n",
       "      <th>graphical_appearance_no</th>\n",
       "      <th>graphical_appearance_name</th>\n",
       "      <th>colour_group_code</th>\n",
       "      <th>colour_group_name</th>\n",
       "      <th>...</th>\n",
       "      <th>garment_group_no</th>\n",
       "      <th>garment_group_name</th>\n",
       "      <th>detail_desc</th>\n",
       "      <th>price_mean</th>\n",
       "      <th>price_min</th>\n",
       "      <th>price_max</th>\n",
       "      <th>t_dat_min</th>\n",
       "      <th>t_dat_max</th>\n",
       "      <th>article_id_count</th>\n",
       "      <th>price_percentile</th>\n",
       "    </tr>\n",
       "  </thead>\n",
       "  <tbody>\n",
       "    <tr>\n",
       "      <th>0</th>\n",
       "      <td>108775015</td>\n",
       "      <td>108775</td>\n",
       "      <td>Strap top</td>\n",
       "      <td>253</td>\n",
       "      <td>Vest top</td>\n",
       "      <td>Garment Upper body</td>\n",
       "      <td>1010016</td>\n",
       "      <td>Solid</td>\n",
       "      <td>9</td>\n",
       "      <td>Black</td>\n",
       "      <td>...</td>\n",
       "      <td>1002</td>\n",
       "      <td>Jersey Basic</td>\n",
       "      <td>Jersey top with narrow shoulder straps.</td>\n",
       "      <td>0.008142</td>\n",
       "      <td>0.001339</td>\n",
       "      <td>0.009153</td>\n",
       "      <td>2018-09-20</td>\n",
       "      <td>2020-07-22</td>\n",
       "      <td>10841.0</td>\n",
       "      <td>0.029462</td>\n",
       "    </tr>\n",
       "    <tr>\n",
       "      <th>1</th>\n",
       "      <td>108775044</td>\n",
       "      <td>108775</td>\n",
       "      <td>Strap top</td>\n",
       "      <td>253</td>\n",
       "      <td>Vest top</td>\n",
       "      <td>Garment Upper body</td>\n",
       "      <td>1010016</td>\n",
       "      <td>Solid</td>\n",
       "      <td>10</td>\n",
       "      <td>White</td>\n",
       "      <td>...</td>\n",
       "      <td>1002</td>\n",
       "      <td>Jersey Basic</td>\n",
       "      <td>Jersey top with narrow shoulder straps.</td>\n",
       "      <td>0.008114</td>\n",
       "      <td>0.001424</td>\n",
       "      <td>0.008508</td>\n",
       "      <td>2018-09-20</td>\n",
       "      <td>2020-09-20</td>\n",
       "      <td>7250.0</td>\n",
       "      <td>0.027742</td>\n",
       "    </tr>\n",
       "  </tbody>\n",
       "</table>\n",
       "<p>2 rows × 32 columns</p>\n",
       "</div>"
      ],
      "text/plain": [
       "   article_id  product_code  prod_name  product_type_no product_type_name  \\\n",
       "0   108775015        108775  Strap top              253          Vest top   \n",
       "1   108775044        108775  Strap top              253          Vest top   \n",
       "\n",
       "   product_group_name  graphical_appearance_no graphical_appearance_name  \\\n",
       "0  Garment Upper body                  1010016                     Solid   \n",
       "1  Garment Upper body                  1010016                     Solid   \n",
       "\n",
       "   colour_group_code colour_group_name  ...  garment_group_no  \\\n",
       "0                  9             Black  ...              1002   \n",
       "1                 10             White  ...              1002   \n",
       "\n",
       "  garment_group_name                              detail_desc price_mean  \\\n",
       "0       Jersey Basic  Jersey top with narrow shoulder straps.   0.008142   \n",
       "1       Jersey Basic  Jersey top with narrow shoulder straps.   0.008114   \n",
       "\n",
       "   price_min price_max  t_dat_min  t_dat_max  article_id_count  \\\n",
       "0   0.001339  0.009153 2018-09-20 2020-07-22           10841.0   \n",
       "1   0.001424  0.008508 2018-09-20 2020-09-20            7250.0   \n",
       "\n",
       "  price_percentile  \n",
       "0         0.029462  \n",
       "1         0.027742  \n",
       "\n",
       "[2 rows x 32 columns]"
      ]
     },
     "execution_count": 8,
     "metadata": {},
     "output_type": "execute_result"
    }
   ],
   "source": [
    "enhanced_products=products.merge(article_price, how='outer',on='article_id')\n",
    "\n",
    "enhanced_products=enhanced_products.assign(\n",
    "    price_percentile=enhanced_products.groupby(['product_group_name','index_group_name'])['price_mean'].transform('rank', pct=True)\n",
    ")   \n",
    "\n",
    "enhanced_products.head(2)"
   ]
  },
  {
   "cell_type": "code",
   "execution_count": 9,
   "id": "1bf855ca-9576-40b9-9ccd-1c28a583ca01",
   "metadata": {},
   "outputs": [],
   "source": [
    "enhanced_products['article_id_count']=enhanced_products['article_id_count'].fillna(0)"
   ]
  },
  {
   "cell_type": "code",
   "execution_count": 17,
   "id": "eb311cda-55ec-429b-a017-57e44dc3c660",
   "metadata": {},
   "outputs": [],
   "source": [
    "# enhanced_products.describe(include=\"number\").T\n",
    "# uncomment to check "
   ]
  },
  {
   "cell_type": "code",
   "execution_count": 10,
   "id": "cae96cb0-9bae-4263-b88e-d614d1905f47",
   "metadata": {},
   "outputs": [],
   "source": [
    "path='kaggle_data/'\n",
    "enhanced_products.to_csv(os.path.join(path,r'enhanced_products.csv'),index=False)"
   ]
  },
  {
   "cell_type": "code",
   "execution_count": 19,
   "id": "57753b1a-52b0-4a28-8cbf-dc5da26cd2f4",
   "metadata": {},
   "outputs": [
    {
     "name": "stdout",
     "output_type": "stream",
     "text": [
      "/home/jupyter/h_and_m/kaggle_data\n"
     ]
    }
   ],
   "source": [
    "# cd kaggle_data"
   ]
  },
  {
   "cell_type": "code",
   "execution_count": 21,
   "id": "fbf8e9db-9f42-4476-8b9a-a00329fa3b4b",
   "metadata": {},
   "outputs": [],
   "source": [
    "# rm articles.csv"
   ]
  },
  {
   "cell_type": "code",
   "execution_count": null,
   "id": "8147a9f1-2c74-4143-bace-886576656255",
   "metadata": {},
   "outputs": [],
   "source": []
  }
 ],
 "metadata": {
  "environment": {
   "kernel": "python3",
   "name": "pytorch-gpu.1-13.m103",
   "type": "gcloud",
   "uri": "gcr.io/deeplearning-platform-release/pytorch-gpu.1-13:m103"
  },
  "kernelspec": {
   "display_name": "Python 3 (ipykernel)",
   "language": "python",
   "name": "python3"
  },
  "language_info": {
   "codemirror_mode": {
    "name": "ipython",
    "version": 3
   },
   "file_extension": ".py",
   "mimetype": "text/x-python",
   "name": "python",
   "nbconvert_exporter": "python",
   "pygments_lexer": "ipython3",
   "version": "3.7.12"
  }
 },
 "nbformat": 4,
 "nbformat_minor": 5
}

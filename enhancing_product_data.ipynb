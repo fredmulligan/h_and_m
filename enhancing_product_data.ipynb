{
 "cells": [
  {
   "cell_type": "code",
   "execution_count": 1,
   "id": "11048f01-ae5e-4d65-98bd-9f44d05b893d",
   "metadata": {},
   "outputs": [],
   "source": [
    "import pandas as pd\n",
    "import matplotlib.pyplot as plt\n",
    "import seaborn as sns\n",
    "import numpy as np\n",
    "import math \n",
    "import os"
   ]
  },
  {
   "cell_type": "code",
   "execution_count": 2,
   "id": "61326fbf-f525-49aa-a1ea-5ba1ddc8090f",
   "metadata": {},
   "outputs": [],
   "source": [
    "transactions_data_path=\"kaggle_data/transactions_train.csv\""
   ]
  },
  {
   "cell_type": "code",
   "execution_count": 3,
   "id": "579a8037-34a8-4c25-9e40-01e0e426491e",
   "metadata": {},
   "outputs": [],
   "source": [
    "transactions=pd.read_csv(transactions_data_path)\n",
    "transactions['t_dat']=transactions['t_dat'].astype('datetime64[ns]')"
   ]
  },
  {
   "cell_type": "code",
   "execution_count": 5,
   "id": "aaccb1e8-163e-4483-a6a1-e18ef6136176",
   "metadata": {},
   "outputs": [
    {
     "data": {
      "text/html": [
       "<div>\n",
       "<style scoped>\n",
       "    .dataframe tbody tr th:only-of-type {\n",
       "        vertical-align: middle;\n",
       "    }\n",
       "\n",
       "    .dataframe tbody tr th {\n",
       "        vertical-align: top;\n",
       "    }\n",
       "\n",
       "    .dataframe thead th {\n",
       "        text-align: right;\n",
       "    }\n",
       "</style>\n",
       "<table border=\"1\" class=\"dataframe\">\n",
       "  <thead>\n",
       "    <tr style=\"text-align: right;\">\n",
       "      <th></th>\n",
       "      <th>article_id</th>\n",
       "      <th>price_mean</th>\n",
       "      <th>price_min</th>\n",
       "      <th>price_max</th>\n",
       "      <th>t_dat_min</th>\n",
       "      <th>t_dat_max</th>\n",
       "      <th>article_id_count</th>\n",
       "    </tr>\n",
       "  </thead>\n",
       "  <tbody>\n",
       "    <tr>\n",
       "      <th>0</th>\n",
       "      <td>108775015</td>\n",
       "      <td>0.008142</td>\n",
       "      <td>0.001339</td>\n",
       "      <td>0.009153</td>\n",
       "      <td>2018-09-20</td>\n",
       "      <td>2020-07-22</td>\n",
       "      <td>10841</td>\n",
       "    </tr>\n",
       "    <tr>\n",
       "      <th>1</th>\n",
       "      <td>108775044</td>\n",
       "      <td>0.008114</td>\n",
       "      <td>0.001424</td>\n",
       "      <td>0.008508</td>\n",
       "      <td>2018-09-20</td>\n",
       "      <td>2020-09-20</td>\n",
       "      <td>7250</td>\n",
       "    </tr>\n",
       "  </tbody>\n",
       "</table>\n",
       "</div>"
      ],
      "text/plain": [
       "   article_id  price_mean  price_min  price_max  t_dat_min  t_dat_max  \\\n",
       "0   108775015    0.008142   0.001339   0.009153 2018-09-20 2020-07-22   \n",
       "1   108775044    0.008114   0.001424   0.008508 2018-09-20 2020-09-20   \n",
       "\n",
       "   article_id_count  \n",
       "0             10841  \n",
       "1              7250  "
      ]
     },
     "execution_count": 5,
     "metadata": {},
     "output_type": "execute_result"
    }
   ],
   "source": [
    "article_price = (\n",
    "    transactions\n",
    "    .groupby('article_id')             # Group by products\n",
    "    .agg({'price': ['mean','min','max'],'t_dat': ['min','max'],'article_id':['count']}) \n",
    "    .reset_index()\n",
    ")\n",
    "\n",
    "article_price.columns = ['_'.join(col) for col in article_price.columns.values]\n",
    "article_price= article_price.rename({\"article_id_\": \"article_id\"}, axis=1) \n",
    "article_price.head(2)"
   ]
  },
  {
   "cell_type": "code",
   "execution_count": 7,
   "id": "3d8373d5-a5c7-4876-80ed-b4ae4829565b",
   "metadata": {},
   "outputs": [
    {
     "data": {
      "text/plain": [
       "article_id                   int64\n",
       "price_mean                 float64\n",
       "price_min                  float64\n",
       "price_max                  float64\n",
       "t_dat_min           datetime64[ns]\n",
       "t_dat_max           datetime64[ns]\n",
       "article_id_count             int64\n",
       "dtype: object"
      ]
     },
     "execution_count": 7,
     "metadata": {},
     "output_type": "execute_result"
    }
   ],
   "source": [
    "article_price.dtypes"
   ]
  },
  {
   "cell_type": "code",
   "execution_count": 6,
   "id": "8a234bcf-65e5-4a89-8d22-174fff26f9de",
   "metadata": {},
   "outputs": [],
   "source": [
    "path='kaggle_data/'\n",
    "article_price.to_csv(os.path.join(path,r'enhanced_article_meta_data.csv'),index=False)"
   ]
  },
  {
   "cell_type": "code",
   "execution_count": null,
   "id": "57753b1a-52b0-4a28-8cbf-dc5da26cd2f4",
   "metadata": {},
   "outputs": [],
   "source": []
  }
 ],
 "metadata": {
  "environment": {
   "kernel": "python3",
   "name": "pytorch-gpu.1-13.m103",
   "type": "gcloud",
   "uri": "gcr.io/deeplearning-platform-release/pytorch-gpu.1-13:m103"
  },
  "kernelspec": {
   "display_name": "Python 3 (ipykernel)",
   "language": "python",
   "name": "python3"
  },
  "language_info": {
   "codemirror_mode": {
    "name": "ipython",
    "version": 3
   },
   "file_extension": ".py",
   "mimetype": "text/x-python",
   "name": "python",
   "nbconvert_exporter": "python",
   "pygments_lexer": "ipython3",
   "version": "3.7.12"
  }
 },
 "nbformat": 4,
 "nbformat_minor": 5
}

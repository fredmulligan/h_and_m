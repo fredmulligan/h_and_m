{
 "cells": [
  {
   "cell_type": "code",
   "execution_count": 1,
   "id": "25050c72-2c52-4d86-992f-148d72269a7b",
   "metadata": {},
   "outputs": [
    {
     "name": "stdout",
     "output_type": "stream",
     "text": [
      "README.md  Untitled.ipynb\n"
     ]
    }
   ],
   "source": [
    "!ls"
   ]
  },
  {
   "cell_type": "code",
   "execution_count": 2,
   "id": "92929640-e71d-41d0-8356-9d64040885e0",
   "metadata": {},
   "outputs": [
    {
     "name": "stdout",
     "output_type": "stream",
     "text": [
      "Collecting kaggle\n",
      "  Downloading kaggle-1.5.12.tar.gz (58 kB)\n",
      "\u001b[2K     \u001b[90m━━━━━━━━━━━━━━━━━━━━━━━━━━━━━━━━━━━━━━━━\u001b[0m \u001b[32m59.0/59.0 kB\u001b[0m \u001b[31m3.1 MB/s\u001b[0m eta \u001b[36m0:00:00\u001b[0m\n",
      "\u001b[?25h  Preparing metadata (setup.py) ... \u001b[?25ldone\n",
      "\u001b[?25hRequirement already satisfied: six>=1.10 in /opt/conda/lib/python3.7/site-packages (from kaggle) (1.16.0)\n",
      "Requirement already satisfied: certifi in /opt/conda/lib/python3.7/site-packages (from kaggle) (2022.12.7)\n",
      "Requirement already satisfied: python-dateutil in /opt/conda/lib/python3.7/site-packages (from kaggle) (2.8.2)\n",
      "Requirement already satisfied: requests in /opt/conda/lib/python3.7/site-packages (from kaggle) (2.28.2)\n",
      "Requirement already satisfied: tqdm in /opt/conda/lib/python3.7/site-packages (from kaggle) (4.64.1)\n",
      "Collecting python-slugify\n",
      "  Downloading python_slugify-8.0.1-py2.py3-none-any.whl (9.7 kB)\n",
      "Requirement already satisfied: urllib3 in /opt/conda/lib/python3.7/site-packages (from kaggle) (1.26.14)\n",
      "Collecting text-unidecode>=1.3\n",
      "  Downloading text_unidecode-1.3-py2.py3-none-any.whl (78 kB)\n",
      "\u001b[2K     \u001b[90m━━━━━━━━━━━━━━━━━━━━━━━━━━━━━━━━━━━━━━━━\u001b[0m \u001b[32m78.2/78.2 kB\u001b[0m \u001b[31m8.6 MB/s\u001b[0m eta \u001b[36m0:00:00\u001b[0m\n",
      "\u001b[?25hRequirement already satisfied: idna<4,>=2.5 in /opt/conda/lib/python3.7/site-packages (from requests->kaggle) (3.4)\n",
      "Requirement already satisfied: charset-normalizer<4,>=2 in /opt/conda/lib/python3.7/site-packages (from requests->kaggle) (2.1.1)\n",
      "Building wheels for collected packages: kaggle\n",
      "  Building wheel for kaggle (setup.py) ... \u001b[?25ldone\n",
      "\u001b[?25h  Created wheel for kaggle: filename=kaggle-1.5.12-py3-none-any.whl size=73031 sha256=72a0a03aca55a1badc7ff7661d357d575e66264809b63372c437932114764aa5\n",
      "  Stored in directory: /home/jupyter/.cache/pip/wheels/11/ec/8f/80c32ff2501f7b1a76f4df651a0242314d229a5d3e5130bd01\n",
      "Successfully built kaggle\n",
      "Installing collected packages: text-unidecode, python-slugify, kaggle\n",
      "Successfully installed kaggle-1.5.12 python-slugify-8.0.1 text-unidecode-1.3\n"
     ]
    }
   ],
   "source": [
    "!pip install kaggle"
   ]
  },
  {
   "cell_type": "code",
   "execution_count": 13,
   "id": "f5225981-fa5b-4539-a518-2344d629b26c",
   "metadata": {},
   "outputs": [],
   "source": [
    "!rm -rf ~/.kaggle"
   ]
  },
  {
   "cell_type": "code",
   "execution_count": 14,
   "id": "7be845fb-096b-462f-86df-f18ab8f7e57e",
   "metadata": {},
   "outputs": [
    {
     "name": "stdout",
     "output_type": "stream",
     "text": [
      "/home/jupyter/h_and_m\n"
     ]
    }
   ],
   "source": [
    "!pwd"
   ]
  },
  {
   "cell_type": "code",
   "execution_count": 15,
   "id": "26d31fc6-35a7-40be-a574-82f86b1e0115",
   "metadata": {},
   "outputs": [],
   "source": [
    "import json"
   ]
  },
  {
   "cell_type": "code",
   "execution_count": 16,
   "id": "3563b3c0-02f7-42f0-8a71-958d70fbe63a",
   "metadata": {},
   "outputs": [],
   "source": [
    "token = {\"username\":\"username\",\"key\":\"key\"} #removing username"
   ]
  },
  {
   "cell_type": "code",
   "execution_count": 17,
   "id": "6b7f8473-d4f3-48b3-bb5c-eef92e135c0e",
   "metadata": {},
   "outputs": [],
   "source": [
    "with open(\"kaggle.json\", \"w\") as file:\n",
    "    json.dump(token, file)"
   ]
  },
  {
   "cell_type": "code",
   "execution_count": 18,
   "id": "80627e3a-2cf8-40c5-bb85-f22831079569",
   "metadata": {},
   "outputs": [],
   "source": [
    "!mkdir ~/.kaggle"
   ]
  },
  {
   "cell_type": "code",
   "execution_count": 19,
   "id": "0fbaf4ab-c6ad-4527-9cb7-545f612558e3",
   "metadata": {},
   "outputs": [],
   "source": [
    "!cp kaggle.json ~/.kaggle/kaggle.json"
   ]
  },
  {
   "cell_type": "code",
   "execution_count": 20,
   "id": "18d8de40-31d6-4e72-b51a-79bfb2f165b5",
   "metadata": {},
   "outputs": [],
   "source": [
    "!chmod 600 ~/.kaggle/kaggle.json\n",
    "\n"
   ]
  },
  {
   "cell_type": "code",
   "execution_count": 21,
   "id": "3fd3c47b-f830-43b6-a536-4e6d3d0b7f24",
   "metadata": {},
   "outputs": [
    {
     "name": "stdout",
     "output_type": "stream",
     "text": [
      "Downloading h-and-m-personalized-fashion-recommendations.zip to /home/jupyter/h_and_m\n",
      "100%|██████████████████████████████████████▉| 28.7G/28.7G [04:03<00:00, 174MB/s]\n",
      "100%|███████████████████████████████████████| 28.7G/28.7G [04:03<00:00, 126MB/s]\n"
     ]
    }
   ],
   "source": [
    "!kaggle competitions download -c h-and-m-personalized-fashion-recommendations"
   ]
  },
  {
   "cell_type": "code",
   "execution_count": 28,
   "id": "7d3b8950-ad82-44f0-a102-51b8cb5dd131",
   "metadata": {},
   "outputs": [],
   "source": [
    "!mkdir ~/h_and_m/kaggle_data"
   ]
  },
  {
   "cell_type": "code",
   "execution_count": 30,
   "id": "d8c0636c-3008-49ed-aaaa-9eb4343ec10b",
   "metadata": {},
   "outputs": [
    {
     "name": "stdout",
     "output_type": "stream",
     "text": [
      "README.md\th-and-m-personalized-fashion-recommendations.zip  kaggle_data\n",
      "Untitled.ipynb\tkaggle.json\n"
     ]
    }
   ],
   "source": [
    "!ls"
   ]
  },
  {
   "cell_type": "code",
   "execution_count": 34,
   "id": "3eaf8b28-abd5-44de-a34b-57feac48c81f",
   "metadata": {},
   "outputs": [],
   "source": [
    "!unzip h-and-m-personalized-fashion-recommendations.zip -d kaggle_data"
   ]
  },
  {
   "cell_type": "code",
   "execution_count": 44,
   "id": "9d1c1198-e6a7-4a9c-af88-0332b918861c",
   "metadata": {},
   "outputs": [
    {
     "name": "stdout",
     "output_type": "stream",
     "text": [
      "/home/jupyter/h_and_m/kaggle_data\n"
     ]
    }
   ],
   "source": [
    "cd kaggle_data"
   ]
  },
  {
   "cell_type": "code",
   "execution_count": 46,
   "id": "70706626-29d5-41f2-8fbd-db65a8b65246",
   "metadata": {},
   "outputs": [],
   "source": [
    "rm -r images"
   ]
  },
  {
   "cell_type": "code",
   "execution_count": 52,
   "id": "13da67e6-fbdf-4812-b1f4-bc058d89dad0",
   "metadata": {},
   "outputs": [
    {
     "name": "stdout",
     "output_type": "stream",
     "text": [
      "Generating public/private rsa key pair.\n",
      "Enter file in which to save the key (/home/jupyter/.ssh/id_rsa): ^C\n"
     ]
    }
   ],
   "source": [
    "!ssh-keygen -t rsa -b 4096"
   ]
  },
  {
   "cell_type": "code",
   "execution_count": null,
   "id": "b8a336e8-9e3d-4d54-b749-c27f64e9eded",
   "metadata": {},
   "outputs": [],
   "source": []
  },
  {
   "cell_type": "code",
   "execution_count": null,
   "id": "602170a3-63bf-48e3-b875-2fa2837ffd45",
   "metadata": {},
   "outputs": [],
   "source": []
  }
 ],
 "metadata": {
  "environment": {
   "kernel": "python3",
   "name": "pytorch-gpu.1-13.m103",
   "type": "gcloud",
   "uri": "gcr.io/deeplearning-platform-release/pytorch-gpu.1-13:m103"
  },
  "kernelspec": {
   "display_name": "Python 3 (ipykernel)",
   "language": "python",
   "name": "python3"
  },
  "language_info": {
   "codemirror_mode": {
    "name": "ipython",
    "version": 3
   },
   "file_extension": ".py",
   "mimetype": "text/x-python",
   "name": "python",
   "nbconvert_exporter": "python",
   "pygments_lexer": "ipython3",
   "version": "3.7.12"
  }
 },
 "nbformat": 4,
 "nbformat_minor": 5
}

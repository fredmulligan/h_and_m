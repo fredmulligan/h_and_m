{
 "cells": [
  {
   "cell_type": "code",
   "execution_count": 49,
   "id": "9a3c69c2-14f5-4ba8-9a91-391669997b1d",
   "metadata": {},
   "outputs": [],
   "source": [
    "import torch\n",
    "import torch.nn as nn\n",
    "import torch.optim as optim\n",
    "import pandas as pd\n",
    "import numpy as np\n",
    "from sklearn.model_selection import train_test_split\n",
    "from torch.utils.data import Dataset, DataLoader"
   ]
  },
  {
   "cell_type": "markdown",
   "id": "bacb70fd-907a-463f-a1c2-78c86c81affe",
   "metadata": {},
   "source": [
    "### Load data and build the context window"
   ]
  },
  {
   "cell_type": "code",
   "execution_count": 50,
   "id": "84b3ec7b-a7e8-4ff4-a9e7-7645f5b9be8b",
   "metadata": {},
   "outputs": [],
   "source": [
    "CONTEXT_SIZE=3"
   ]
  },
  {
   "cell_type": "code",
   "execution_count": 51,
   "id": "be69e62e-d853-446e-af8a-21a7bed86a9c",
   "metadata": {},
   "outputs": [],
   "source": [
    "def contexted_data(words):\n",
    "    data = []\n",
    "\n",
    "    for i in range(CONTEXT_SIZE, len(words) - CONTEXT_SIZE):\n",
    "        context = (\n",
    "            [words[i - j - 1] for j in range(CONTEXT_SIZE)]\n",
    "            + [words[i + j + 1] for j in range(CONTEXT_SIZE)]\n",
    "        )\n",
    "        target = words[i]\n",
    "        data.append((context, target))\n",
    "    return data\n",
    "\n"
   ]
  },
  {
   "cell_type": "code",
   "execution_count": 52,
   "id": "e8facbd1-9d6c-4c63-bab0-74cd5777fe9e",
   "metadata": {},
   "outputs": [],
   "source": [
    "data_set_path=\"kaggle_data/initial_data_set.csv\""
   ]
  },
  {
   "cell_type": "code",
   "execution_count": 53,
   "id": "3e827311-166f-4c23-a3fe-e800b9323ec3",
   "metadata": {},
   "outputs": [],
   "source": [
    "data_set=pd.read_csv(data_set_path)"
   ]
  },
  {
   "cell_type": "code",
   "execution_count": 54,
   "id": "48b74b66-182f-4b65-a213-30409f3205ed",
   "metadata": {},
   "outputs": [],
   "source": [
    "data_set_list=data_set.apply(lambda row: row.tolist(), axis=1).tolist()"
   ]
  },
  {
   "cell_type": "code",
   "execution_count": 55,
   "id": "aecf88c9-df8a-454e-85d2-6931f3e159a9",
   "metadata": {},
   "outputs": [
    {
     "data": {
      "text/plain": [
       "119"
      ]
     },
     "execution_count": 55,
     "metadata": {},
     "output_type": "execute_result"
    }
   ],
   "source": [
    "vocab=np.unique(data_set.values).tolist()\n",
    "vocab_size = len(vocab)\n",
    "vocab_size\n",
    "word_to_ix = {word: i for i, word in enumerate(vocab)}\n",
    "embedding_size=30\n",
    "\n",
    "vocab_size"
   ]
  },
  {
   "cell_type": "code",
   "execution_count": 56,
   "id": "acdb214f-0573-4989-a2b2-dc32c33fe497",
   "metadata": {},
   "outputs": [],
   "source": [
    "built_word_data=[]\n",
    "for customer in data_set_list:\n",
    "    built_word_data=built_word_data+contexted_data(customer)"
   ]
  },
  {
   "cell_type": "markdown",
   "id": "07f44266-b60b-4a5d-96a1-c79713ed8423",
   "metadata": {},
   "source": [
    "### Split data"
   ]
  },
  {
   "cell_type": "code",
   "execution_count": 57,
   "id": "22286ffd-c7f4-402c-8c67-9328c10409d2",
   "metadata": {},
   "outputs": [],
   "source": [
    "train_data, int_data = train_test_split(built_word_data, test_size=0.3, random_state=42)\n",
    "val_data, test_data  = train_test_split(built_word_data, test_size=0.5, random_state=42)"
   ]
  },
  {
   "cell_type": "markdown",
   "id": "952fee92-d894-4049-a792-e9f870d4540f",
   "metadata": {},
   "source": [
    "### Model Buildling"
   ]
  },
  {
   "cell_type": "code",
   "execution_count": 63,
   "id": "c3edae38-981a-4196-b176-0aee73670c34",
   "metadata": {},
   "outputs": [],
   "source": [
    "class NGram(nn.Module):\n",
    "    def __init__(self, vocab_size, embedding_size, context_size):\n",
    "        super(NGram, self).__init__()\n",
    "        self.embeddings = nn.Embedding(vocab_size, embedding_size)\n",
    "        self.linear1 = nn.Linear((2*context_size) * embedding_size, 128)\n",
    "        self.linear2 = nn.Linear(128, vocab_size)\n",
    "\n",
    "    def forward(self, x):\n",
    "        batch_size=self.embeddings(inputs).shape[0]\n",
    "        embeds = self.embeddings(inputs).view((batch_size, -1))\n",
    "        out = nn.functional.relu(self.linear1(embeds))\n",
    "        out = self.linear2(out)\n",
    "        log_probs = nn.functional.log_softmax(out, dim=1)\n",
    "        return log_probs\n"
   ]
  },
  {
   "cell_type": "code",
   "execution_count": 64,
   "id": "d5d2c1b2-7cb9-4d00-bcad-771b62e3778d",
   "metadata": {},
   "outputs": [],
   "source": [
    "embedding_size = 20\n",
    "model = NGram(vocab_size, embedding_size,CONTEXT_SIZE)\n",
    "criterion = nn.NLLLoss()\n",
    "optimizer = optim.SGD(model.parameters(), lr=0.01)"
   ]
  },
  {
   "cell_type": "code",
   "execution_count": 65,
   "id": "e5afc0ba-f38b-4ec8-ac70-eab86673d64e",
   "metadata": {},
   "outputs": [],
   "source": [
    "def make_context_vector(context, word_to_ix):\n",
    "    idxs = [word_to_ix[w] for w in context]\n",
    "    return torch.tensor(idxs, dtype=torch.long)"
   ]
  },
  {
   "cell_type": "code",
   "execution_count": 66,
   "id": "df07ec8e-54ef-44e0-b934-0325608835a4",
   "metadata": {},
   "outputs": [
    {
     "name": "stdout",
     "output_type": "stream",
     "text": [
      "tensor([48, 49, 26, 90, 90, 43])\n",
      "tensor([106, 106, 106,  90,  90, 101])\n",
      "tensor([98, 98,  9, 95, 95, 95])\n"
     ]
    }
   ],
   "source": [
    "for i in range(3):\n",
    "    inputs, target = val_data[i]\n",
    "    print(make_context_vector(inputs, word_to_ix))\n"
   ]
  },
  {
   "cell_type": "code",
   "execution_count": 67,
   "id": "374452af-0022-43c6-8ef6-9be060c3e803",
   "metadata": {},
   "outputs": [],
   "source": [
    "class CBOWDataset(Dataset):\n",
    "    def __init__(self, data, word_to_ix, CONTEXT_SIZE):\n",
    "        self.data = data\n",
    "        self.word_to_ix = word_to_ix\n",
    "        self.CONTEXT_SIZE = CONTEXT_SIZE\n",
    "\n",
    "    def __len__(self):\n",
    "        return len(self.data)\n",
    "\n",
    "    def __getitem__(self, idx):\n",
    "        inputs, target = self.data[idx]\n",
    "        context = make_context_vector(inputs, self.word_to_ix)\n",
    "        target = torch.tensor(self.word_to_ix[target], dtype=torch.long)\n",
    "        return context, target\n",
    "\n",
    "\n",
    "    \n",
    "\n"
   ]
  },
  {
   "cell_type": "code",
   "execution_count": 68,
   "id": "9e71d8fc-8bcf-490b-8519-f134b898dcf0",
   "metadata": {},
   "outputs": [],
   "source": [
    "train_dataset = CBOWDataset(train_data, word_to_ix,CONTEXT_SIZE)\n",
    "val_dataset = CBOWDataset(val_data, word_to_ix,CONTEXT_SIZE)\n",
    "\n",
    "train_loader = DataLoader(train_dataset, batch_size=32, shuffle=True, num_workers=4)\n",
    "val_loader = DataLoader(val_dataset, batch_size=32, shuffle=False, num_workers=4)\n",
    "\n",
    "\n",
    "ngram = NGram(vocab_size,embedding_size,CONTEXT_SIZE)"
   ]
  },
  {
   "cell_type": "code",
   "execution_count": null,
   "id": "83d04360-4a14-4697-90bf-1c2e99606113",
   "metadata": {},
   "outputs": [
    {
     "name": "stdout",
     "output_type": "stream",
     "text": [
      "epoch number 0\n"
     ]
    }
   ],
   "source": [
    "epochs = 3\n",
    "training_loss=[]\n",
    "validation_loss=[]\n",
    "for epoch in range(epochs):\n",
    "    train_loss = 0.0\n",
    "    val_loss = 0.0\n",
    "    ngram.train()\n",
    "    for i, (inputs, targets) in enumerate(train_loader):\n",
    "        optimizer.zero_grad()\n",
    "        outputs = ngram(inputs)\n",
    "        loss = criterion(outputs, targets)\n",
    "        loss.backward()\n",
    "        optimizer.step()\n",
    "        train_loss += loss.item()\n",
    "    training_loss.append(loss.item())\n",
    "\n",
    "    ngram.eval()\n",
    "    with torch.no_grad():\n",
    "        for i, (inputs, targets) in enumerate(val_loader):\n",
    "            outputs = ngram(inputs)\n",
    "            loss = criterion(outputs, targets)\n",
    "            val_loss += loss.item()\n",
    "            \n",
    "    validation_loss.append(val_loss)\n",
    "    if epoch%10==0:\n",
    "        print(f'epoch number {epoch}')"
   ]
  },
  {
   "cell_type": "code",
   "execution_count": null,
   "id": "1104049a-7d31-43a4-a95c-9bc73997e49f",
   "metadata": {},
   "outputs": [],
   "source": [
    "from matplotlib import pyplot as plt\n",
    "plt.plot(validation_loss)"
   ]
  }
 ],
 "metadata": {
  "environment": {
   "kernel": "python3",
   "name": "pytorch-gpu.1-13.m103",
   "type": "gcloud",
   "uri": "gcr.io/deeplearning-platform-release/pytorch-gpu.1-13:m103"
  },
  "kernelspec": {
   "display_name": "Python 3 (ipykernel)",
   "language": "python",
   "name": "python3"
  },
  "language_info": {
   "codemirror_mode": {
    "name": "ipython",
    "version": 3
   },
   "file_extension": ".py",
   "mimetype": "text/x-python",
   "name": "python",
   "nbconvert_exporter": "python",
   "pygments_lexer": "ipython3",
   "version": "3.7.12"
  }
 },
 "nbformat": 4,
 "nbformat_minor": 5
}

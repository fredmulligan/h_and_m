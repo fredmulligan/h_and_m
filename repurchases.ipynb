{
 "cells": [
  {
   "cell_type": "code",
   "execution_count": 36,
   "id": "b55eaffc-2ac8-4d0c-90be-53ae9d7840a5",
   "metadata": {},
   "outputs": [],
   "source": [
    "import pandas as pd\n",
    "import matplotlib.pyplot as plt\n",
    "import numpy as np"
   ]
  },
  {
   "cell_type": "code",
   "execution_count": 2,
   "id": "9e22037b-dbbf-474d-bde7-24b8ed702eba",
   "metadata": {},
   "outputs": [],
   "source": [
    "columnss=['t_dat','article_id','customer_id']\n",
    "enhanced_transactions_data_path=\"kaggle_data/enhanced_transactions.csv\"\n",
    "enhanced_transactions_are_go=pd.read_csv(enhanced_transactions_data_path,usecols = columnss)\n"
   ]
  },
  {
   "cell_type": "code",
   "execution_count": 3,
   "id": "08be2cf5-d5e3-4b4f-8388-2c16b6f49e3e",
   "metadata": {},
   "outputs": [
    {
     "data": {
      "text/html": [
       "<div>\n",
       "<style scoped>\n",
       "    .dataframe tbody tr th:only-of-type {\n",
       "        vertical-align: middle;\n",
       "    }\n",
       "\n",
       "    .dataframe tbody tr th {\n",
       "        vertical-align: top;\n",
       "    }\n",
       "\n",
       "    .dataframe thead th {\n",
       "        text-align: right;\n",
       "    }\n",
       "</style>\n",
       "<table border=\"1\" class=\"dataframe\">\n",
       "  <thead>\n",
       "    <tr style=\"text-align: right;\">\n",
       "      <th></th>\n",
       "      <th>t_dat</th>\n",
       "      <th>customer_id</th>\n",
       "      <th>article_id</th>\n",
       "    </tr>\n",
       "  </thead>\n",
       "  <tbody>\n",
       "    <tr>\n",
       "      <th>0</th>\n",
       "      <td>2018-09-20</td>\n",
       "      <td>000058a12d5b43e67d225668fa1f8d618c13dc232df0ca...</td>\n",
       "      <td>663713001</td>\n",
       "    </tr>\n",
       "    <tr>\n",
       "      <th>1</th>\n",
       "      <td>2018-09-20</td>\n",
       "      <td>3681748607f3287d2c3a65e00bb5fb153de30e9becf158...</td>\n",
       "      <td>663713001</td>\n",
       "    </tr>\n",
       "  </tbody>\n",
       "</table>\n",
       "</div>"
      ],
      "text/plain": [
       "        t_dat                                        customer_id  article_id\n",
       "0  2018-09-20  000058a12d5b43e67d225668fa1f8d618c13dc232df0ca...   663713001\n",
       "1  2018-09-20  3681748607f3287d2c3a65e00bb5fb153de30e9becf158...   663713001"
      ]
     },
     "execution_count": 3,
     "metadata": {},
     "output_type": "execute_result"
    }
   ],
   "source": [
    "enhanced_transactions_are_go.head(2)"
   ]
  },
  {
   "cell_type": "code",
   "execution_count": 4,
   "id": "1dc47293-2d90-4dbf-9711-c0d1f50139e1",
   "metadata": {},
   "outputs": [],
   "source": [
    "\n",
    "enhanced_transactions_are_go=enhanced_transactions_are_go.dropna(subset=['t_dat'])\n"
   ]
  },
  {
   "cell_type": "code",
   "execution_count": 5,
   "id": "0726307c-b3e5-49b2-800c-4a35f8e12b8c",
   "metadata": {},
   "outputs": [],
   "source": [
    "enhanced_transactions_are_go=enhanced_transactions_are_go.reset_index()"
   ]
  },
  {
   "cell_type": "code",
   "execution_count": 6,
   "id": "17ab8a66-5041-429f-83f7-75345fdd06b0",
   "metadata": {},
   "outputs": [
    {
     "data": {
      "text/html": [
       "<div>\n",
       "<style scoped>\n",
       "    .dataframe tbody tr th:only-of-type {\n",
       "        vertical-align: middle;\n",
       "    }\n",
       "\n",
       "    .dataframe tbody tr th {\n",
       "        vertical-align: top;\n",
       "    }\n",
       "\n",
       "    .dataframe thead th {\n",
       "        text-align: right;\n",
       "    }\n",
       "</style>\n",
       "<table border=\"1\" class=\"dataframe\">\n",
       "  <thead>\n",
       "    <tr style=\"text-align: right;\">\n",
       "      <th></th>\n",
       "      <th>index</th>\n",
       "      <th>t_dat</th>\n",
       "      <th>customer_id</th>\n",
       "      <th>article_id</th>\n",
       "    </tr>\n",
       "  </thead>\n",
       "  <tbody>\n",
       "    <tr>\n",
       "      <th>0</th>\n",
       "      <td>0</td>\n",
       "      <td>2018-09-20</td>\n",
       "      <td>000058a12d5b43e67d225668fa1f8d618c13dc232df0ca...</td>\n",
       "      <td>663713001</td>\n",
       "    </tr>\n",
       "    <tr>\n",
       "      <th>1</th>\n",
       "      <td>1</td>\n",
       "      <td>2018-09-20</td>\n",
       "      <td>3681748607f3287d2c3a65e00bb5fb153de30e9becf158...</td>\n",
       "      <td>663713001</td>\n",
       "    </tr>\n",
       "    <tr>\n",
       "      <th>2</th>\n",
       "      <td>2</td>\n",
       "      <td>2018-09-20</td>\n",
       "      <td>4ef5967ff17bf474bffebe5b16bd54878e1d4105f7b4ed...</td>\n",
       "      <td>663713001</td>\n",
       "    </tr>\n",
       "    <tr>\n",
       "      <th>3</th>\n",
       "      <td>3</td>\n",
       "      <td>2018-09-20</td>\n",
       "      <td>6b7b10d2d47516c82a6f97332478dab748070f09693f09...</td>\n",
       "      <td>663713001</td>\n",
       "    </tr>\n",
       "    <tr>\n",
       "      <th>4</th>\n",
       "      <td>4</td>\n",
       "      <td>2018-09-20</td>\n",
       "      <td>8ac137752bbe914aa4ae6ad007a9a0c5b67a1ab2b2d474...</td>\n",
       "      <td>663713001</td>\n",
       "    </tr>\n",
       "  </tbody>\n",
       "</table>\n",
       "</div>"
      ],
      "text/plain": [
       "   index       t_dat                                        customer_id  \\\n",
       "0      0  2018-09-20  000058a12d5b43e67d225668fa1f8d618c13dc232df0ca...   \n",
       "1      1  2018-09-20  3681748607f3287d2c3a65e00bb5fb153de30e9becf158...   \n",
       "2      2  2018-09-20  4ef5967ff17bf474bffebe5b16bd54878e1d4105f7b4ed...   \n",
       "3      3  2018-09-20  6b7b10d2d47516c82a6f97332478dab748070f09693f09...   \n",
       "4      4  2018-09-20  8ac137752bbe914aa4ae6ad007a9a0c5b67a1ab2b2d474...   \n",
       "\n",
       "   article_id  \n",
       "0   663713001  \n",
       "1   663713001  \n",
       "2   663713001  \n",
       "3   663713001  \n",
       "4   663713001  "
      ]
     },
     "execution_count": 6,
     "metadata": {},
     "output_type": "execute_result"
    }
   ],
   "source": [
    "enhanced_transactions_are_go.head()"
   ]
  },
  {
   "cell_type": "code",
   "execution_count": 7,
   "id": "24391aff-0041-42c2-9c6f-45f97c0b5a88",
   "metadata": {},
   "outputs": [],
   "source": [
    "# This adds the customer order number witht he transactions, breaking ties by the newly added index for consistency \n",
    "enhanced_transactions_are_go['customer_order_number'] = (enhanced_transactions_are_go.sort_values(['t_dat','index'])\n",
    "                      .groupby(['customer_id']).cumcount(ascending=False)+1\n",
    "                    )\n",
    "\n",
    "# This adds the producgt order number witht he transactions, breaking ties by the newly added index for consistency \n",
    "enhanced_transactions_are_go['customer_product_order_number'] = (enhanced_transactions_are_go.sort_values(['t_dat','index'])\n",
    "                      .groupby(['customer_id','article_id']).cumcount(ascending=False)+1\n",
    "                    )"
   ]
  },
  {
   "cell_type": "code",
   "execution_count": 8,
   "id": "af1bdeca-aefa-469c-a130-b75042458a78",
   "metadata": {},
   "outputs": [
    {
     "data": {
      "text/html": [
       "<div>\n",
       "<style scoped>\n",
       "    .dataframe tbody tr th:only-of-type {\n",
       "        vertical-align: middle;\n",
       "    }\n",
       "\n",
       "    .dataframe tbody tr th {\n",
       "        vertical-align: top;\n",
       "    }\n",
       "\n",
       "    .dataframe thead th {\n",
       "        text-align: right;\n",
       "    }\n",
       "</style>\n",
       "<table border=\"1\" class=\"dataframe\">\n",
       "  <thead>\n",
       "    <tr style=\"text-align: right;\">\n",
       "      <th></th>\n",
       "      <th>index</th>\n",
       "      <th>t_dat</th>\n",
       "      <th>customer_id</th>\n",
       "      <th>article_id</th>\n",
       "      <th>customer_order_number</th>\n",
       "      <th>customer_product_order_number</th>\n",
       "    </tr>\n",
       "  </thead>\n",
       "  <tbody>\n",
       "    <tr>\n",
       "      <th>0</th>\n",
       "      <td>0</td>\n",
       "      <td>2018-09-20</td>\n",
       "      <td>000058a12d5b43e67d225668fa1f8d618c13dc232df0ca...</td>\n",
       "      <td>663713001</td>\n",
       "      <td>18</td>\n",
       "      <td>2</td>\n",
       "    </tr>\n",
       "    <tr>\n",
       "      <th>1</th>\n",
       "      <td>1</td>\n",
       "      <td>2018-09-20</td>\n",
       "      <td>3681748607f3287d2c3a65e00bb5fb153de30e9becf158...</td>\n",
       "      <td>663713001</td>\n",
       "      <td>126</td>\n",
       "      <td>1</td>\n",
       "    </tr>\n",
       "    <tr>\n",
       "      <th>2</th>\n",
       "      <td>2</td>\n",
       "      <td>2018-09-20</td>\n",
       "      <td>4ef5967ff17bf474bffebe5b16bd54878e1d4105f7b4ed...</td>\n",
       "      <td>663713001</td>\n",
       "      <td>340</td>\n",
       "      <td>1</td>\n",
       "    </tr>\n",
       "    <tr>\n",
       "      <th>3</th>\n",
       "      <td>3</td>\n",
       "      <td>2018-09-20</td>\n",
       "      <td>6b7b10d2d47516c82a6f97332478dab748070f09693f09...</td>\n",
       "      <td>663713001</td>\n",
       "      <td>109</td>\n",
       "      <td>1</td>\n",
       "    </tr>\n",
       "    <tr>\n",
       "      <th>4</th>\n",
       "      <td>4</td>\n",
       "      <td>2018-09-20</td>\n",
       "      <td>8ac137752bbe914aa4ae6ad007a9a0c5b67a1ab2b2d474...</td>\n",
       "      <td>663713001</td>\n",
       "      <td>2</td>\n",
       "      <td>1</td>\n",
       "    </tr>\n",
       "  </tbody>\n",
       "</table>\n",
       "</div>"
      ],
      "text/plain": [
       "   index       t_dat                                        customer_id  \\\n",
       "0      0  2018-09-20  000058a12d5b43e67d225668fa1f8d618c13dc232df0ca...   \n",
       "1      1  2018-09-20  3681748607f3287d2c3a65e00bb5fb153de30e9becf158...   \n",
       "2      2  2018-09-20  4ef5967ff17bf474bffebe5b16bd54878e1d4105f7b4ed...   \n",
       "3      3  2018-09-20  6b7b10d2d47516c82a6f97332478dab748070f09693f09...   \n",
       "4      4  2018-09-20  8ac137752bbe914aa4ae6ad007a9a0c5b67a1ab2b2d474...   \n",
       "\n",
       "   article_id  customer_order_number  customer_product_order_number  \n",
       "0   663713001                     18                              2  \n",
       "1   663713001                    126                              1  \n",
       "2   663713001                    340                              1  \n",
       "3   663713001                    109                              1  \n",
       "4   663713001                      2                              1  "
      ]
     },
     "execution_count": 8,
     "metadata": {},
     "output_type": "execute_result"
    }
   ],
   "source": [
    "enhanced_transactions_are_go.head()"
   ]
  },
  {
   "cell_type": "code",
   "execution_count": 13,
   "id": "c31d26af-f0d0-4c0f-b842-f2f4fa909d72",
   "metadata": {},
   "outputs": [],
   "source": [
    "enhanced_transactions_are_go['rebuy'] = np.where((enhanced_transactions_are_go['customer_product_order_number'] >1),True, False)"
   ]
  },
  {
   "cell_type": "code",
   "execution_count": 22,
   "id": "cc89866b-89a2-40ab-8eb7-bdf4503b9c64",
   "metadata": {},
   "outputs": [],
   "source": [
    "new_table_for_the_moment=enhanced_transactions_are_go.groupby(['customer_order_number','rebuy']).agg({'index':'count'}).reset_index()"
   ]
  },
  {
   "cell_type": "code",
   "execution_count": 23,
   "id": "6746b714-e6d3-47f9-a64b-c1051ff591fa",
   "metadata": {},
   "outputs": [],
   "source": [
    "new_table_for_the_moment['sum_rebuy']=new_table_for_the_moment.groupby(['customer_order_number'])['index'].transform('sum')"
   ]
  },
  {
   "cell_type": "code",
   "execution_count": 25,
   "id": "207a2d88-b666-4544-bfc9-4f99323a4cc1",
   "metadata": {},
   "outputs": [],
   "source": [
    "new_table_for_the_moment['percent_total']=new_table_for_the_moment['index']/new_table_for_the_moment['sum_rebuy']"
   ]
  },
  {
   "cell_type": "code",
   "execution_count": 31,
   "id": "4159c8d3-0505-4afe-a98c-a8d3ef9fd647",
   "metadata": {},
   "outputs": [
    {
     "data": {
      "text/html": [
       "<div>\n",
       "<style scoped>\n",
       "    .dataframe tbody tr th:only-of-type {\n",
       "        vertical-align: middle;\n",
       "    }\n",
       "\n",
       "    .dataframe tbody tr th {\n",
       "        vertical-align: top;\n",
       "    }\n",
       "\n",
       "    .dataframe thead th {\n",
       "        text-align: right;\n",
       "    }\n",
       "</style>\n",
       "<table border=\"1\" class=\"dataframe\">\n",
       "  <thead>\n",
       "    <tr style=\"text-align: right;\">\n",
       "      <th></th>\n",
       "      <th>customer_order_number</th>\n",
       "      <th>rebuy</th>\n",
       "      <th>index</th>\n",
       "      <th>sum_rebuy</th>\n",
       "      <th>percent_total</th>\n",
       "    </tr>\n",
       "  </thead>\n",
       "  <tbody>\n",
       "    <tr>\n",
       "      <th>2</th>\n",
       "      <td>2</td>\n",
       "      <td>True</td>\n",
       "      <td>139408</td>\n",
       "      <td>1230767</td>\n",
       "      <td>0.113269</td>\n",
       "    </tr>\n",
       "    <tr>\n",
       "      <th>4</th>\n",
       "      <td>3</td>\n",
       "      <td>True</td>\n",
       "      <td>96625</td>\n",
       "      <td>1103326</td>\n",
       "      <td>0.087576</td>\n",
       "    </tr>\n",
       "    <tr>\n",
       "      <th>6</th>\n",
       "      <td>4</td>\n",
       "      <td>True</td>\n",
       "      <td>117633</td>\n",
       "      <td>1007640</td>\n",
       "      <td>0.116741</td>\n",
       "    </tr>\n",
       "    <tr>\n",
       "      <th>8</th>\n",
       "      <td>5</td>\n",
       "      <td>True</td>\n",
       "      <td>98593</td>\n",
       "      <td>925558</td>\n",
       "      <td>0.106523</td>\n",
       "    </tr>\n",
       "    <tr>\n",
       "      <th>10</th>\n",
       "      <td>6</td>\n",
       "      <td>True</td>\n",
       "      <td>106132</td>\n",
       "      <td>860923</td>\n",
       "      <td>0.123277</td>\n",
       "    </tr>\n",
       "  </tbody>\n",
       "</table>\n",
       "</div>"
      ],
      "text/plain": [
       "    customer_order_number  rebuy   index  sum_rebuy  percent_total\n",
       "2                       2   True  139408    1230767       0.113269\n",
       "4                       3   True   96625    1103326       0.087576\n",
       "6                       4   True  117633    1007640       0.116741\n",
       "8                       5   True   98593     925558       0.106523\n",
       "10                      6   True  106132     860923       0.123277"
      ]
     },
     "execution_count": 31,
     "metadata": {},
     "output_type": "execute_result"
    }
   ],
   "source": [
    "plotting_table=new_table_for_the_moment[new_table_for_the_moment['rebuy']==True].head(200)"
   ]
  },
  {
   "cell_type": "code",
   "execution_count": 42,
   "id": "758b10af-d119-4293-9f54-55a236434c41",
   "metadata": {},
   "outputs": [
    {
     "data": {
      "text/html": [
       "<div>\n",
       "<style scoped>\n",
       "    .dataframe tbody tr th:only-of-type {\n",
       "        vertical-align: middle;\n",
       "    }\n",
       "\n",
       "    .dataframe tbody tr th {\n",
       "        vertical-align: top;\n",
       "    }\n",
       "\n",
       "    .dataframe thead th {\n",
       "        text-align: right;\n",
       "    }\n",
       "</style>\n",
       "<table border=\"1\" class=\"dataframe\">\n",
       "  <thead>\n",
       "    <tr style=\"text-align: right;\">\n",
       "      <th></th>\n",
       "      <th>customer_order_number</th>\n",
       "      <th>rebuy</th>\n",
       "      <th>index</th>\n",
       "      <th>sum_rebuy</th>\n",
       "      <th>percent_total</th>\n",
       "    </tr>\n",
       "  </thead>\n",
       "  <tbody>\n",
       "    <tr>\n",
       "      <th>2</th>\n",
       "      <td>2</td>\n",
       "      <td>True</td>\n",
       "      <td>139408</td>\n",
       "      <td>1230767</td>\n",
       "      <td>0.113269</td>\n",
       "    </tr>\n",
       "    <tr>\n",
       "      <th>4</th>\n",
       "      <td>3</td>\n",
       "      <td>True</td>\n",
       "      <td>96625</td>\n",
       "      <td>1103326</td>\n",
       "      <td>0.087576</td>\n",
       "    </tr>\n",
       "    <tr>\n",
       "      <th>6</th>\n",
       "      <td>4</td>\n",
       "      <td>True</td>\n",
       "      <td>117633</td>\n",
       "      <td>1007640</td>\n",
       "      <td>0.116741</td>\n",
       "    </tr>\n",
       "    <tr>\n",
       "      <th>8</th>\n",
       "      <td>5</td>\n",
       "      <td>True</td>\n",
       "      <td>98593</td>\n",
       "      <td>925558</td>\n",
       "      <td>0.106523</td>\n",
       "    </tr>\n",
       "    <tr>\n",
       "      <th>10</th>\n",
       "      <td>6</td>\n",
       "      <td>True</td>\n",
       "      <td>106132</td>\n",
       "      <td>860923</td>\n",
       "      <td>0.123277</td>\n",
       "    </tr>\n",
       "  </tbody>\n",
       "</table>\n",
       "</div>"
      ],
      "text/plain": [
       "    customer_order_number  rebuy   index  sum_rebuy  percent_total\n",
       "2                       2   True  139408    1230767       0.113269\n",
       "4                       3   True   96625    1103326       0.087576\n",
       "6                       4   True  117633    1007640       0.116741\n",
       "8                       5   True   98593     925558       0.106523\n",
       "10                      6   True  106132     860923       0.123277"
      ]
     },
     "execution_count": 42,
     "metadata": {},
     "output_type": "execute_result"
    }
   ],
   "source": [
    "plotting_graph=new_table_for_the_moment[new_table_for_the_moment['rebuy']==True]\n",
    "plotting_graph.head()"
   ]
  },
  {
   "cell_type": "code",
   "execution_count": 43,
   "id": "54860359-591a-4f34-841d-edaa8dcc6cc0",
   "metadata": {},
   "outputs": [
    {
     "data": {
      "text/plain": [
       "[<matplotlib.lines.Line2D at 0x7fa26734a110>]"
      ]
     },
     "execution_count": 43,
     "metadata": {},
     "output_type": "execute_result"
    },
    {
     "data": {
      "image/png": "[encoded data removed]",
      "text/plain": [
       "<Figure size 640x480 with 1 Axes>"
      ]
     },
     "metadata": {},
     "output_type": "display_data"
    }
   ],
   "source": [
    "plt.plot(plotting_graph['customer_order_number'], plotting_graph['percent_total'])"
   ]
  }
 ],
 "metadata": {
  "environment": {
   "kernel": "python3",
   "name": "pytorch-gpu.1-13.m103",
   "type": "gcloud",
   "uri": "gcr.io/deeplearning-platform-release/pytorch-gpu.1-13:m103"
  },
  "kernelspec": {
   "display_name": "Python 3 (ipykernel)",
   "language": "python",
   "name": "python3"
  },
  "language_info": {
   "codemirror_mode": {
    "name": "ipython",
    "version": 3
   },
   "file_extension": ".py",
   "mimetype": "text/x-python",
   "name": "python",
   "nbconvert_exporter": "python",
   "pygments_lexer": "ipython3",
   "version": "3.7.12"
  }
 },
 "nbformat": 4,
 "nbformat_minor": 5
}

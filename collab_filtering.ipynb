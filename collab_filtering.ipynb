{
 "cells": [
  {
   "cell_type": "code",
   "execution_count": 1,
   "id": "f041938c-8cc2-4c83-aa40-93066dd1b5e4",
   "metadata": {},
   "outputs": [],
   "source": [
    "import torch\n",
    "import torch.nn as nn\n",
    "import torch.optim as optim\n",
    "from torch.utils.data import DataLoader\n",
    "import pandas as pd\n",
    "import matplotlib.pyplot as plt\n",
    "import seaborn as sns\n",
    "import numpy as np\n",
    "from torch.utils.data import Dataset\n",
    "from sklearn.model_selection import train_test_split\n"
   ]
  },
  {
   "cell_type": "code",
   "execution_count": 49,
   "id": "74f0a494-0d80-4946-a59c-3be982711c7e",
   "metadata": {},
   "outputs": [],
   "source": [
    "class CollaborativeFiltering(nn.Module):\n",
    "    def __init__(self, num_users, num_items, embedding_dim=16, hidden_dim=32, output_dim=16):\n",
    "        super(CollaborativeFiltering, self).__init__()\n",
    "        \n",
    "        self.user_embedding = nn.Embedding(num_users, embedding_dim)\n",
    "        \n",
    "        self.item_embedding = nn.Embedding(num_items, embedding_dim)\n",
    "        \n",
    "        self.ffnn_item = nn.Sequential(\n",
    "            nn.Linear(embedding_dim, hidden_dim),\n",
    "            nn.ReLU(),\n",
    "            nn.Linear(hidden_dim, hidden_dim),\n",
    "            nn.ReLU(),\n",
    "            nn.Linear(hidden_dim, hidden_dim),\n",
    "            nn.ReLU(),\n",
    "            nn.Linear(hidden_dim, hidden_dim),\n",
    "            nn.ReLU(),\n",
    "            nn.Linear(hidden_dim, output_dim)\n",
    "        )\n",
    "        \n",
    "        self.ffnn_user = nn.Sequential(\n",
    "            nn.Linear(embedding_dim, hidden_dim),\n",
    "            nn.ReLU(),\n",
    "            nn.Linear(hidden_dim, hidden_dim),\n",
    "            nn.ReLU(),\n",
    "            nn.Linear(hidden_dim, hidden_dim),\n",
    "            nn.ReLU(),\n",
    "            nn.Linear(hidden_dim, hidden_dim),\n",
    "            nn.ReLU(),\n",
    "            nn.Linear(hidden_dim, output_dim)\n",
    "        )\n",
    "        \n",
    "    def forward(self, user_ids, item_ids):\n",
    "        user_embed = self.user_embedding(user_ids)\n",
    "        item_embed = self.item_embedding(item_ids)\n",
    "        item_scores = self.ffnn_item(item_embed)\n",
    "        user_scores = self.ffnn_user(user_embed)\n",
    "        \n",
    "        return user_scores, item_scores"
   ]
  },
  {
   "cell_type": "code",
   "execution_count": 31,
   "id": "b20d9e97-99bd-4aea-b04c-331479d85cf2",
   "metadata": {},
   "outputs": [],
   "source": [
    "data_path = \"kaggle_data/collab_filtering_prelim_data.csv\"\n",
    "data = pd.read_csv(data_path)"
   ]
  },
  {
   "cell_type": "code",
   "execution_count": 32,
   "id": "c05b1ca6-7af9-4dbd-8cae-0a9b07495480",
   "metadata": {},
   "outputs": [
    {
     "data": {
      "text/plain": [
       "(308678, 3)"
      ]
     },
     "execution_count": 32,
     "metadata": {},
     "output_type": "execute_result"
    }
   ],
   "source": [
    "data.shape"
   ]
  },
  {
   "cell_type": "code",
   "execution_count": 33,
   "id": "9b4ee7a2-629b-4fa2-b719-94a789f34e04",
   "metadata": {},
   "outputs": [],
   "source": [
    "# create a dictionary to map string ids to integer indices\n",
    "user_to_idx = {user_id: idx for idx, user_id in enumerate(data['customer_id'].unique())}\n",
    "item_to_idx = {item_id: idx for idx, item_id in enumerate(data['article_id'].unique())}\n",
    "\n",
    "# add integer index columns to the DataFrame\n",
    "data['user_idx'] = data['customer_id'].map(user_to_idx)\n",
    "data['item_idx'] = data['article_id'].map(item_to_idx)"
   ]
  },
  {
   "cell_type": "code",
   "execution_count": 50,
   "id": "122bc776-1b29-43cc-95c5-1f3062b869d0",
   "metadata": {},
   "outputs": [],
   "source": [
    "class HandMDataset(Dataset):\n",
    "    def __init__(self, df):\n",
    "        self.customer_ids = df['user_idx'].values\n",
    "        self.article_ids = df['item_idx'].values\n",
    "        self.labels = df['label'].values\n",
    "        \n",
    "    def __len__(self):\n",
    "        return len(self.labels)\n",
    "    \n",
    "    def __getitem__(self, idx):\n",
    "        return self.customer_ids[idx], self.article_ids[idx], self.labels[idx]"
   ]
  },
  {
   "cell_type": "code",
   "execution_count": 51,
   "id": "4251aed6-5710-465e-a422-aad8c2f06ab9",
   "metadata": {},
   "outputs": [
    {
     "name": "stdout",
     "output_type": "stream",
     "text": [
      "Elapsed time: 2.5033950805664062e-05 seconds\n"
     ]
    }
   ],
   "source": [
    "import time\n",
    "\n",
    "# start timer\n",
    "start_time = time.time()\n",
    "\n",
    "\n",
    "# end timer\n",
    "end_time = time.time()\n",
    "\n",
    "# print elapsed time\n",
    "print(f\"Elapsed time: {end_time - start_time} seconds\")"
   ]
  },
  {
   "cell_type": "code",
   "execution_count": 52,
   "id": "06be45af-24c9-4ca7-9af9-b1456d50ffd2",
   "metadata": {},
   "outputs": [
    {
     "data": {
      "text/plain": [
       "10"
      ]
     },
     "execution_count": 52,
     "metadata": {},
     "output_type": "execute_result"
    }
   ],
   "source": [
    "10%20000"
   ]
  },
  {
   "cell_type": "code",
   "execution_count": null,
   "id": "67eb0049-8cbc-4626-835c-cc3644e3b51f",
   "metadata": {},
   "outputs": [],
   "source": []
  },
  {
   "cell_type": "code",
   "execution_count": 37,
   "id": "f4e78524-db64-498c-aa4b-69ca972070ff",
   "metadata": {},
   "outputs": [],
   "source": [
    "num_users=data['customer_id'].nunique()\n",
    "num_items=data['article_id'].nunique()"
   ]
  },
  {
   "cell_type": "code",
   "execution_count": 38,
   "id": "a56ba6e6-2c4f-4bbd-a757-97c306f21782",
   "metadata": {},
   "outputs": [],
   "source": [
    "train_data, int_data = train_test_split(data, test_size=0.1, random_state=42)\n",
    "val_data, test_data  = train_test_split(int_data, test_size=0.5, random_state=42)"
   ]
  },
  {
   "cell_type": "code",
   "execution_count": 39,
   "id": "5f8aa2ec-6945-4e7d-b9db-3276c80353b5",
   "metadata": {},
   "outputs": [],
   "source": [
    "train_dataset = HandMDataset(train_data)\n",
    "val_dataset = HandMDataset(val_data)\n",
    "\n",
    "train_loader = DataLoader(train_dataset, batch_size=32, shuffle=True, num_workers=4)\n",
    "val_loader = DataLoader(val_dataset, batch_size=32, shuffle=True, num_workers=4)"
   ]
  },
  {
   "cell_type": "code",
   "execution_count": 40,
   "id": "824c2b8f-7213-420b-be47-52d7c10443e4",
   "metadata": {},
   "outputs": [],
   "source": [
    "train_len=len(train_data)\n",
    "val_len=len(val_data)"
   ]
  },
  {
   "cell_type": "code",
   "execution_count": 41,
   "id": "2d1a6691-c928-4d10-b48b-8a372f0ffc76",
   "metadata": {},
   "outputs": [],
   "source": [
    "model = CollaborativeFiltering(num_users, num_items)"
   ]
  },
  {
   "cell_type": "code",
   "execution_count": 42,
   "id": "ebb6e6a1-dd6d-4fe9-b423-58cc5bcab89e",
   "metadata": {},
   "outputs": [],
   "source": [
    "# Define the loss function and optimizer\n",
    "criterion = nn.CosineEmbeddingLoss()\n",
    "optimizer = optim.Adam(model.parameters(), lr=0.01)"
   ]
  },
  {
   "cell_type": "code",
   "execution_count": 43,
   "id": "930bcf65-fe3c-4821-944c-56a40842a1aa",
   "metadata": {},
   "outputs": [
    {
     "data": {
      "text/html": [
       "<div>\n",
       "<style scoped>\n",
       "    .dataframe tbody tr th:only-of-type {\n",
       "        vertical-align: middle;\n",
       "    }\n",
       "\n",
       "    .dataframe tbody tr th {\n",
       "        vertical-align: top;\n",
       "    }\n",
       "\n",
       "    .dataframe thead th {\n",
       "        text-align: right;\n",
       "    }\n",
       "</style>\n",
       "<table border=\"1\" class=\"dataframe\">\n",
       "  <thead>\n",
       "    <tr style=\"text-align: right;\">\n",
       "      <th></th>\n",
       "      <th>customer_id</th>\n",
       "      <th>article_id</th>\n",
       "      <th>label</th>\n",
       "      <th>user_idx</th>\n",
       "      <th>item_idx</th>\n",
       "    </tr>\n",
       "  </thead>\n",
       "  <tbody>\n",
       "    <tr>\n",
       "      <th>308673</th>\n",
       "      <td>6d58705bc45b09dfc9ee700cc2f8c02d65444a7be9f444...</td>\n",
       "      <td>869070005</td>\n",
       "      <td>1</td>\n",
       "      <td>1597</td>\n",
       "      <td>2384</td>\n",
       "    </tr>\n",
       "    <tr>\n",
       "      <th>308674</th>\n",
       "      <td>08ae22429179bdb5f42c3f6c31d8361df962f18f5a328e...</td>\n",
       "      <td>571706010</td>\n",
       "      <td>1</td>\n",
       "      <td>327</td>\n",
       "      <td>12455</td>\n",
       "    </tr>\n",
       "    <tr>\n",
       "      <th>308675</th>\n",
       "      <td>f62307ef91a8c2ac16d8a2b920beb5361f4b54f9a6a6ba...</td>\n",
       "      <td>837306003</td>\n",
       "      <td>1</td>\n",
       "      <td>893</td>\n",
       "      <td>1479</td>\n",
       "    </tr>\n",
       "    <tr>\n",
       "      <th>308676</th>\n",
       "      <td>ce3886acb6dcbddb0d58ccbd015f5875ba2d65e09910ea...</td>\n",
       "      <td>910096002</td>\n",
       "      <td>-1</td>\n",
       "      <td>1325</td>\n",
       "      <td>8805</td>\n",
       "    </tr>\n",
       "    <tr>\n",
       "      <th>308677</th>\n",
       "      <td>e2fcb273201a0354f6fda384f67d5ef4d8b95274129797...</td>\n",
       "      <td>904416001</td>\n",
       "      <td>-1</td>\n",
       "      <td>351</td>\n",
       "      <td>6027</td>\n",
       "    </tr>\n",
       "  </tbody>\n",
       "</table>\n",
       "</div>"
      ],
      "text/plain": [
       "                                              customer_id  article_id  label  \\\n",
       "308673  6d58705bc45b09dfc9ee700cc2f8c02d65444a7be9f444...   869070005      1   \n",
       "308674  08ae22429179bdb5f42c3f6c31d8361df962f18f5a328e...   571706010      1   \n",
       "308675  f62307ef91a8c2ac16d8a2b920beb5361f4b54f9a6a6ba...   837306003      1   \n",
       "308676  ce3886acb6dcbddb0d58ccbd015f5875ba2d65e09910ea...   910096002     -1   \n",
       "308677  e2fcb273201a0354f6fda384f67d5ef4d8b95274129797...   904416001     -1   \n",
       "\n",
       "        user_idx  item_idx  \n",
       "308673      1597      2384  \n",
       "308674       327     12455  \n",
       "308675       893      1479  \n",
       "308676      1325      8805  \n",
       "308677       351      6027  "
      ]
     },
     "execution_count": 43,
     "metadata": {},
     "output_type": "execute_result"
    }
   ],
   "source": [
    "data.tail()"
   ]
  },
  {
   "cell_type": "code",
   "execution_count": 53,
   "id": "1408c491-6fb6-42c5-88f6-7ab58e0d6314",
   "metadata": {},
   "outputs": [
    {
     "ename": "PicklingError",
     "evalue": "Can't pickle <class '__main__.CollaborativeFiltering'>: it's not the same object as __main__.CollaborativeFiltering",
     "output_type": "error",
     "traceback": [
      "\u001b[0;31m---------------------------------------------------------------------------\u001b[0m",
      "\u001b[0;31mPicklingError\u001b[0m                             Traceback (most recent call last)",
      "\u001b[0;32m/var/tmp/ipykernel_6654/1072602076.py\u001b[0m in \u001b[0;36m<module>\u001b[0;34m\u001b[0m\n\u001b[0;32m----> 1\u001b[0;31m \u001b[0mtorch\u001b[0m\u001b[0;34m.\u001b[0m\u001b[0msave\u001b[0m\u001b[0;34m(\u001b[0m\u001b[0mmodel\u001b[0m\u001b[0;34m,\u001b[0m \u001b[0;34m'kaggle_data/model_mid_training.pt'\u001b[0m\u001b[0;34m)\u001b[0m\u001b[0;34m\u001b[0m\u001b[0;34m\u001b[0m\u001b[0m\n\u001b[0m",
      "\u001b[0;32m/opt/conda/lib/python3.7/site-packages/torch/serialization.py\u001b[0m in \u001b[0;36msave\u001b[0;34m(obj, f, pickle_module, pickle_protocol, _use_new_zipfile_serialization)\u001b[0m\n\u001b[1;32m    421\u001b[0m     \u001b[0;32mif\u001b[0m \u001b[0m_use_new_zipfile_serialization\u001b[0m\u001b[0;34m:\u001b[0m\u001b[0;34m\u001b[0m\u001b[0;34m\u001b[0m\u001b[0m\n\u001b[1;32m    422\u001b[0m         \u001b[0;32mwith\u001b[0m \u001b[0m_open_zipfile_writer\u001b[0m\u001b[0;34m(\u001b[0m\u001b[0mf\u001b[0m\u001b[0;34m)\u001b[0m \u001b[0;32mas\u001b[0m \u001b[0mopened_zipfile\u001b[0m\u001b[0;34m:\u001b[0m\u001b[0;34m\u001b[0m\u001b[0;34m\u001b[0m\u001b[0m\n\u001b[0;32m--> 423\u001b[0;31m             \u001b[0m_save\u001b[0m\u001b[0;34m(\u001b[0m\u001b[0mobj\u001b[0m\u001b[0;34m,\u001b[0m \u001b[0mopened_zipfile\u001b[0m\u001b[0;34m,\u001b[0m \u001b[0mpickle_module\u001b[0m\u001b[0;34m,\u001b[0m \u001b[0mpickle_protocol\u001b[0m\u001b[0;34m)\u001b[0m\u001b[0;34m\u001b[0m\u001b[0;34m\u001b[0m\u001b[0m\n\u001b[0m\u001b[1;32m    424\u001b[0m             \u001b[0;32mreturn\u001b[0m\u001b[0;34m\u001b[0m\u001b[0;34m\u001b[0m\u001b[0m\n\u001b[1;32m    425\u001b[0m     \u001b[0;32melse\u001b[0m\u001b[0;34m:\u001b[0m\u001b[0;34m\u001b[0m\u001b[0;34m\u001b[0m\u001b[0m\n",
      "\u001b[0;32m/opt/conda/lib/python3.7/site-packages/torch/serialization.py\u001b[0m in \u001b[0;36m_save\u001b[0;34m(obj, zip_file, pickle_module, pickle_protocol)\u001b[0m\n\u001b[1;32m    633\u001b[0m     \u001b[0mpickler\u001b[0m \u001b[0;34m=\u001b[0m \u001b[0mpickle_module\u001b[0m\u001b[0;34m.\u001b[0m\u001b[0mPickler\u001b[0m\u001b[0;34m(\u001b[0m\u001b[0mdata_buf\u001b[0m\u001b[0;34m,\u001b[0m \u001b[0mprotocol\u001b[0m\u001b[0;34m=\u001b[0m\u001b[0mpickle_protocol\u001b[0m\u001b[0;34m)\u001b[0m\u001b[0;34m\u001b[0m\u001b[0;34m\u001b[0m\u001b[0m\n\u001b[1;32m    634\u001b[0m     \u001b[0mpickler\u001b[0m\u001b[0;34m.\u001b[0m\u001b[0mpersistent_id\u001b[0m \u001b[0;34m=\u001b[0m \u001b[0mpersistent_id\u001b[0m\u001b[0;34m\u001b[0m\u001b[0;34m\u001b[0m\u001b[0m\n\u001b[0;32m--> 635\u001b[0;31m     \u001b[0mpickler\u001b[0m\u001b[0;34m.\u001b[0m\u001b[0mdump\u001b[0m\u001b[0;34m(\u001b[0m\u001b[0mobj\u001b[0m\u001b[0;34m)\u001b[0m\u001b[0;34m\u001b[0m\u001b[0;34m\u001b[0m\u001b[0m\n\u001b[0m\u001b[1;32m    636\u001b[0m     \u001b[0mdata_value\u001b[0m \u001b[0;34m=\u001b[0m \u001b[0mdata_buf\u001b[0m\u001b[0;34m.\u001b[0m\u001b[0mgetvalue\u001b[0m\u001b[0;34m(\u001b[0m\u001b[0;34m)\u001b[0m\u001b[0;34m\u001b[0m\u001b[0;34m\u001b[0m\u001b[0m\n\u001b[1;32m    637\u001b[0m     \u001b[0mzip_file\u001b[0m\u001b[0;34m.\u001b[0m\u001b[0mwrite_record\u001b[0m\u001b[0;34m(\u001b[0m\u001b[0;34m'data.pkl'\u001b[0m\u001b[0;34m,\u001b[0m \u001b[0mdata_value\u001b[0m\u001b[0;34m,\u001b[0m \u001b[0mlen\u001b[0m\u001b[0;34m(\u001b[0m\u001b[0mdata_value\u001b[0m\u001b[0;34m)\u001b[0m\u001b[0;34m)\u001b[0m\u001b[0;34m\u001b[0m\u001b[0;34m\u001b[0m\u001b[0m\n",
      "\u001b[0;31mPicklingError\u001b[0m: Can't pickle <class '__main__.CollaborativeFiltering'>: it's not the same object as __main__.CollaborativeFiltering"
     ]
    }
   ],
   "source": [
    "torch.save(model, 'kaggle_data/model_mid_training.pt')"
   ]
  },
  {
   "cell_type": "code",
   "execution_count": null,
   "id": "e58a27f8-a856-4fa2-9701-48d62bd0ae8e",
   "metadata": {},
   "outputs": [
    {
     "name": "stdout",
     "output_type": "stream",
     "text": [
      "Loss 0.0098\n",
      "Elapsed time: 0.14185261726379395 seconds after 0 runs\n",
      "Elapsed time: 43.661386489868164 seconds after 4000 runs\n",
      "Elapsed time: 83.15505790710449 seconds after 8000 runs\n",
      "Epoch 0: Loss 0.0088\n",
      "Epoch 0: Loss 0.0098\n",
      "Elapsed time: 94.25689625740051 seconds after 0 runs\n",
      "Elapsed time: 139.18778252601624 seconds after 4000 runs\n",
      "Elapsed time: 187.51252222061157 seconds after 8000 runs\n",
      "Epoch 1: Loss 0.0088\n",
      "Epoch 1: Loss 0.0098\n",
      "Elapsed time: 195.11572241783142 seconds after 0 runs\n",
      "Elapsed time: 242.09832239151 seconds after 4000 runs\n",
      "Elapsed time: 287.26224851608276 seconds after 8000 runs\n",
      "Epoch 2: Loss 0.0087\n",
      "Epoch 2: Loss 0.0099\n",
      "Elapsed time: 297.4813530445099 seconds after 0 runs\n",
      "Elapsed time: 336.89497470855713 seconds after 4000 runs\n",
      "Elapsed time: 380.21383476257324 seconds after 8000 runs\n",
      "Epoch 3: Loss 0.0087\n",
      "Epoch 3: Loss 0.0098\n",
      "Elapsed time: 388.7944242954254 seconds after 0 runs\n",
      "Elapsed time: 434.7913875579834 seconds after 4000 runs\n",
      "Elapsed time: 482.6916778087616 seconds after 8000 runs\n",
      "Epoch 4: Loss 0.0087\n",
      "Epoch 4: Loss 0.0099\n",
      "Elapsed time: 489.99057817459106 seconds after 0 runs\n",
      "Elapsed time: 537.8713257312775 seconds after 4000 runs\n",
      "Elapsed time: 577.4014539718628 seconds after 8000 runs\n",
      "Epoch 5: Loss 0.0086\n",
      "Epoch 5: Loss 0.0099\n",
      "Elapsed time: 590.9097435474396 seconds after 0 runs\n",
      "Elapsed time: 629.4126722812653 seconds after 4000 runs\n",
      "Elapsed time: 676.8873329162598 seconds after 8000 runs\n",
      "Epoch 6: Loss 0.0086\n",
      "Epoch 6: Loss 0.0099\n",
      "Elapsed time: 684.216010093689 seconds after 0 runs\n",
      "Elapsed time: 733.6238918304443 seconds after 4000 runs\n",
      "Elapsed time: 782.7965772151947 seconds after 8000 runs\n",
      "Epoch 7: Loss 0.0086\n",
      "Epoch 7: Loss 0.0098\n",
      "Elapsed time: 790.5729801654816 seconds after 0 runs\n",
      "Elapsed time: 838.7183749675751 seconds after 4000 runs\n",
      "Elapsed time: 885.0360643863678 seconds after 8000 runs\n",
      "Epoch 8: Loss 0.0086\n",
      "Epoch 8: Loss 0.0097\n",
      "Elapsed time: 896.9945347309113 seconds after 0 runs\n",
      "Elapsed time: 940.0050027370453 seconds after 4000 runs\n",
      "Elapsed time: 984.5790400505066 seconds after 8000 runs\n",
      "Epoch 9: Loss 0.0086\n",
      "Epoch 9: Loss 0.0098\n",
      "Elapsed time: 997.9660024642944 seconds after 0 runs\n",
      "Elapsed time: 1042.4135479927063 seconds after 4000 runs\n",
      "Elapsed time: 1093.5334978103638 seconds after 8000 runs\n",
      "Epoch 10: Loss 0.0086\n",
      "Epoch 10: Loss 0.0098\n",
      "Elapsed time: 1101.7968063354492 seconds after 0 runs\n",
      "Elapsed time: 1153.4262435436249 seconds after 4000 runs\n",
      "Elapsed time: 1205.8726675510406 seconds after 8000 runs\n",
      "Epoch 11: Loss 0.0086\n",
      "Epoch 11: Loss 0.0098\n",
      "Elapsed time: 1214.1109282970428 seconds after 0 runs\n",
      "Elapsed time: 1268.1663691997528 seconds after 4000 runs\n",
      "Elapsed time: 1323.415938615799 seconds after 8000 runs\n",
      "Epoch 12: Loss 0.0087\n",
      "Epoch 12: Loss 0.0098\n",
      "Elapsed time: 1332.5952262878418 seconds after 0 runs\n",
      "Elapsed time: 1389.1745374202728 seconds after 4000 runs\n",
      "Elapsed time: 1446.279667377472 seconds after 8000 runs\n",
      "Epoch 13: Loss 0.0085\n",
      "Epoch 13: Loss 0.0098\n",
      "Elapsed time: 1455.259135723114 seconds after 0 runs\n",
      "Elapsed time: 1511.695818901062 seconds after 4000 runs\n",
      "Elapsed time: 1568.0556676387787 seconds after 8000 runs\n",
      "Epoch 14: Loss 0.0085\n",
      "Epoch 14: Loss 0.0098\n",
      "Elapsed time: 1576.9368569850922 seconds after 0 runs\n",
      "Elapsed time: 1633.067701101303 seconds after 4000 runs\n",
      "Elapsed time: 1691.8905141353607 seconds after 8000 runs\n",
      "Epoch 15: Loss 0.0085\n",
      "Epoch 15: Loss 0.0098\n",
      "Elapsed time: 1701.6710953712463 seconds after 0 runs\n",
      "Elapsed time: 1763.3874826431274 seconds after 4000 runs\n",
      "Elapsed time: 1826.2292380332947 seconds after 8000 runs\n",
      "Epoch 16: Loss 0.0085\n",
      "Epoch 16: Loss 0.0098\n",
      "Elapsed time: 1842.9653236865997 seconds after 0 runs\n",
      "Elapsed time: 1908.3459086418152 seconds after 4000 runs\n",
      "Elapsed time: 1977.4564564228058 seconds after 8000 runs\n",
      "Epoch 17: Loss 0.0085\n",
      "Epoch 17: Loss 0.0098\n",
      "Elapsed time: 1989.0534880161285 seconds after 0 runs\n",
      "Elapsed time: 2065.4309272766113 seconds after 4000 runs\n",
      "Elapsed time: 2157.062571287155 seconds after 8000 runs\n",
      "Epoch 18: Loss 0.0085\n",
      "Epoch 18: Loss 0.0098\n",
      "Elapsed time: 2171.1616201400757 seconds after 0 runs\n",
      "Elapsed time: 2261.199585914612 seconds after 4000 runs\n",
      "Elapsed time: 2353.5282652378082 seconds after 8000 runs\n",
      "Epoch 19: Loss 0.0085\n",
      "Epoch 19: Loss 0.0098\n",
      "Elapsed time: 2369.301782846451 seconds after 0 runs\n",
      "Elapsed time: 2465.8610315322876 seconds after 4000 runs\n",
      "Elapsed time: 2564.5137979984283 seconds after 8000 runs\n",
      "Epoch 20: Loss 0.0084\n",
      "Epoch 20: Loss 0.0098\n",
      "Elapsed time: 2582.775125980377 seconds after 0 runs\n",
      "Elapsed time: 2679.362022638321 seconds after 4000 runs\n",
      "Elapsed time: 2776.8228278160095 seconds after 8000 runs\n",
      "Epoch 21: Loss 0.0085\n",
      "Epoch 21: Loss 0.0098\n",
      "Elapsed time: 2794.9598717689514 seconds after 0 runs\n",
      "Elapsed time: 2893.2005321979523 seconds after 4000 runs\n",
      "Elapsed time: 2993.8102893829346 seconds after 8000 runs\n",
      "Epoch 22: Loss 0.0089\n",
      "Epoch 22: Loss 0.0121\n",
      "Elapsed time: 3009.2690019607544 seconds after 0 runs\n",
      "Elapsed time: 3110.4325716495514 seconds after 4000 runs\n",
      "Elapsed time: 3201.344521045685 seconds after 8000 runs\n",
      "Epoch 23: Loss 0.0144\n",
      "Epoch 23: Loss 0.0147\n",
      "Elapsed time: 3221.6604278087616 seconds after 0 runs\n",
      "Elapsed time: 3315.1332762241364 seconds after 4000 runs\n",
      "Elapsed time: 3413.3251485824585 seconds after 8000 runs\n",
      "Epoch 24: Loss 0.0105\n",
      "Epoch 24: Loss 0.0104\n",
      "Elapsed time: 3428.196420431137 seconds after 0 runs\n",
      "Elapsed time: 3523.5934495925903 seconds after 4000 runs\n",
      "Elapsed time: 3617.0426614284515 seconds after 8000 runs\n",
      "Epoch 25: Loss 0.0092\n",
      "Epoch 25: Loss 0.0104\n",
      "Elapsed time: 3635.478223800659 seconds after 0 runs\n",
      "Elapsed time: 3731.2501871585846 seconds after 4000 runs\n",
      "Elapsed time: 3826.9569907188416 seconds after 8000 runs\n",
      "Epoch 26: Loss 0.0088\n",
      "Epoch 26: Loss 0.0099\n",
      "Elapsed time: 3844.290831565857 seconds after 0 runs\n",
      "Elapsed time: 3935.963817834854 seconds after 4000 runs\n",
      "Elapsed time: 4030.5663011074066 seconds after 8000 runs\n",
      "Epoch 27: Loss 0.0086\n",
      "Epoch 27: Loss 0.0099\n",
      "Elapsed time: 4045.415416955948 seconds after 0 runs\n",
      "Elapsed time: 4145.1183915138245 seconds after 4000 runs\n"
     ]
    }
   ],
   "source": [
    "val_loss = 0.0\n",
    "model.eval()\n",
    "with torch.no_grad():\n",
    "    for user_ids, item_ids, ratings in val_loader:\n",
    "        user_scores,item_scores = model(user_ids, item_ids)\n",
    "        loss = criterion(user_scores,item_scores,ratings)\n",
    "        val_loss += loss.item()\n",
    "print(f\"Loss {val_loss / val_len:.4f}\")\n",
    "\n",
    "start_time = time.time()\n",
    "for epoch in range(40):\n",
    "    running_loss = 0.0\n",
    "    val_loss = 0.0\n",
    "    t=0\n",
    "    \n",
    "    model.train()\n",
    "\n",
    "    for user_ids, item_ids, ratings in train_loader:\n",
    "        # Zero the gradients\n",
    "        optimizer.zero_grad()\n",
    "\n",
    "\n",
    "        # Forward pass\n",
    "        user_scores,item_scores = model(user_ids, item_ids)\n",
    "        \n",
    "\n",
    "        \n",
    "        \n",
    "        # target_rating = torch.tensor(rating, dtype=torch.float)\n",
    "        \n",
    "        # target_rating = torch.tensor([[rating]], dtype=torch.float)\n",
    "        \n",
    "        # Compute the loss\n",
    "        # predicted_rating = torch.round(torch.sigmoid(model(user_ids, item_ids)))\n",
    "        loss = criterion(user_scores,item_scores, ratings)\n",
    "\n",
    "        # Backward pass\n",
    "        loss.backward()\n",
    "\n",
    "        # Update the weights\n",
    "        optimizer.step()\n",
    "\n",
    "        # Accumulate the loss\n",
    "        running_loss += loss.item()\n",
    "        \n",
    "        current_time = time.time()\n",
    "        \n",
    "        if t%4000==0:\n",
    "            # print(t)\n",
    "            # print(predicted_rating)\n",
    "            print(f\"Elapsed time: {current_time - start_time} seconds after {t} runs\")\n",
    "            # print(f\"user_id: {user_id} item_id: {item_id} rating: {rating}\")\n",
    "        t=t+1\n",
    "    \n",
    "    model.eval()\n",
    "    with torch.no_grad():\n",
    "        for user_ids, item_ids, ratings in val_loader:\n",
    "            user_scores,item_scores = model(user_ids, item_ids)\n",
    "            loss = criterion(user_scores,item_scores,ratings)\n",
    "            val_loss += loss.item()\n",
    "\n",
    "    print(f\"Epoch {epoch}: Loss {running_loss / train_len:.4f}\")\n",
    "    print(f\"Epoch {epoch}: Loss {val_loss / val_len:.4f}\")"
   ]
  },
  {
   "cell_type": "code",
   "execution_count": null,
   "id": "348727a8-dff5-48ec-958d-24d206468fb7",
   "metadata": {},
   "outputs": [],
   "source": [
    "torch.tensor([[1.0]], dtype=torch.float)"
   ]
  },
  {
   "cell_type": "code",
   "execution_count": 138,
   "id": "d74e7f25-d72f-48c7-a38d-23684b47713a",
   "metadata": {},
   "outputs": [
    {
     "ename": "SyntaxError",
     "evalue": "invalid syntax (4056817658.py, line 1)",
     "output_type": "error",
     "traceback": [
      "\u001b[0;36m  File \u001b[0;32m\"/var/tmp/ipykernel_5340/4056817658.py\"\u001b[0;36m, line \u001b[0;32m1\u001b[0m\n\u001b[0;31m    Target size (torch.Size([32])) must be the same as input size (torch.Size([32, 32]))\u001b[0m\n\u001b[0m              ^\u001b[0m\n\u001b[0;31mSyntaxError\u001b[0m\u001b[0;31m:\u001b[0m invalid syntax\n"
     ]
    }
   ],
   "source": [
    "\"Target size (torch.Size([32])) must be the same as input size (torch.Size([32, 32]))\" when completeing this line of code \"criterion(predicted_rating,ratings)\""
   ]
  },
  {
   "cell_type": "code",
   "execution_count": null,
   "id": "6124b3e8-e304-4bd9-a326-66a3de5adf4c",
   "metadata": {},
   "outputs": [],
   "source": []
  },
  {
   "cell_type": "code",
   "execution_count": null,
   "id": "57de76bc-1b79-4173-b08c-13c531a3b85d",
   "metadata": {},
   "outputs": [],
   "source": []
  }
 ],
 "metadata": {
  "environment": {
   "kernel": "python3",
   "name": "pytorch-gpu.1-13.m103",
   "type": "gcloud",
   "uri": "gcr.io/deeplearning-platform-release/pytorch-gpu.1-13:m103"
  },
  "kernelspec": {
   "display_name": "Python 3 (ipykernel)",
   "language": "python",
   "name": "python3"
  },
  "language_info": {
   "codemirror_mode": {
    "name": "ipython",
    "version": 3
   },
   "file_extension": ".py",
   "mimetype": "text/x-python",
   "name": "python",
   "nbconvert_exporter": "python",
   "pygments_lexer": "ipython3",
   "version": "3.7.12"
  }
 },
 "nbformat": 4,
 "nbformat_minor": 5
}

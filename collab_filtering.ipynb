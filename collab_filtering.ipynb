{
 "cells": [
  {
   "cell_type": "code",
   "execution_count": 1,
   "id": "f041938c-8cc2-4c83-aa40-93066dd1b5e4",
   "metadata": {},
   "outputs": [],
   "source": [
    "import torch\n",
    "import torch.nn as nn\n"
   ]
  },
  {
   "cell_type": "code",
   "execution_count": 2,
   "id": "74f0a494-0d80-4946-a59c-3be982711c7e",
   "metadata": {},
   "outputs": [],
   "source": [
    "class CollaborativeFiltering(nn.Module):\n",
    "    def __init__(self, num_users, num_items, content_embed_size=12, embedding_dim=32, hidden_dim=32, output_dim=16):\n",
    "        super(CollaborativeFiltering, self).__init__()\n",
    "        self.user_embedding = nn.Embedding(num_users, embedding_dim)\n",
    "        self.item_embedding = nn.Embedding(num_items, embedding_dim)\n",
    "        self.ffnn_item = nn.Sequential(\n",
    "            nn.Linear(embedding_dim + content_embed_size, hidden_dim),\n",
    "            nn.ReLU(),\n",
    "            nn.Linear(hidden_dim, output_dim)\n",
    "        )\n",
    "        self.ffnn_user = nn.Sequential(\n",
    "            nn.Linear(embedding_dim, hidden_dim),\n",
    "            nn.ReLU(),\n",
    "            nn.Linear(hidden_dim, output_dim)\n",
    "        )\n",
    "        \n",
    "    def forward(self, user_ids, item_ids, content_embed):\n",
    "        user_embed = self.user_embedding(user_ids)\n",
    "        item_embed = self.item_embedding(item_ids)\n",
    "        item_content_embed = torch.cat([item_embed, content_embed], dim=1)\n",
    "        \n",
    "        item_scores = self.ffnn_item(item_content_embed)\n",
    "        user_scores = self.ffnn_user(user_embed)\n",
    "        \n",
    "        return torch.matmul(user_embed, item_scores.T)"
   ]
  },
  {
   "cell_type": "code",
   "execution_count": null,
   "id": "b20d9e97-99bd-4aea-b04c-331479d85cf2",
   "metadata": {},
   "outputs": [],
   "source": []
  }
 ],
 "metadata": {
  "environment": {
   "kernel": "python3",
   "name": "pytorch-gpu.1-13.m103",
   "type": "gcloud",
   "uri": "gcr.io/deeplearning-platform-release/pytorch-gpu.1-13:m103"
  },
  "kernelspec": {
   "display_name": "Python 3 (ipykernel)",
   "language": "python",
   "name": "python3"
  },
  "language_info": {
   "codemirror_mode": {
    "name": "ipython",
    "version": 3
   },
   "file_extension": ".py",
   "mimetype": "text/x-python",
   "name": "python",
   "nbconvert_exporter": "python",
   "pygments_lexer": "ipython3",
   "version": "3.7.12"
  }
 },
 "nbformat": 4,
 "nbformat_minor": 5
}

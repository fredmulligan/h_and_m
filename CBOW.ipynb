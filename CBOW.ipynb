{
 "cells": [
  {
   "cell_type": "code",
   "execution_count": 2,
   "id": "9a3c69c2-14f5-4ba8-9a91-391669997b1d",
   "metadata": {},
   "outputs": [],
   "source": [
    "import torch\n",
    "import torch.nn as nn\n",
    "import torch.optim as optim\n",
    "\n",
    "class CBOW(nn.Module):\n",
    "    def __init__(self, vocab_size, embedding_size):\n",
    "        super(CBOW, self).__init__()\n",
    "        self.embedding = nn.Embedding(vocab_size, embedding_size)\n",
    "        self.fc1 = nn.Linear(embedding_size, vocab_size)\n",
    "\n",
    "    def forward(self, inputs):\n",
    "        embeds = self.embedding(inputs)\n",
    "        sum_embeds = torch.sum(embeds, dim=0)\n",
    "        out = self.fc1(sum_embeds)\n",
    "        return out\n",
    "\n"
   ]
  },
  {
   "cell_type": "code",
   "execution_count": null,
   "id": "8cc7ecd1-d0c4-4b05-b9b2-76551bda7c13",
   "metadata": {},
   "outputs": [],
   "source": [
    "vocab_size = 1000\n",
    "embedding_size = 50\n",
    "model = CBOW(vocab_size, embedding_size)\n",
    "criterion = nn.CrossEntropyLoss()\n",
    "optimizer = optim.SGD(model.parameters(), lr=0.01)\n"
   ]
  },
  {
   "cell_type": "code",
   "execution_count": null,
   "id": "9f54cf8a-85a7-4807-af12-e176a10e393c",
   "metadata": {},
   "outputs": [],
   "source": [
    "# Training loop\n",
    "for inputs, target in training_data:\n",
    "    optimizer.zero_grad()\n",
    "    outputs = model(inputs)\n",
    "    loss = criterion(outputs, target)\n",
    "    loss.backward()\n",
    "    optimizer.step()"
   ]
  },
  {
   "cell_type": "code",
   "execution_count": null,
   "id": "00f16792-1cf8-44b7-be36-877d25bfcd54",
   "metadata": {},
   "outputs": [],
   "source": [
    "import pandas as pd\n",
    "import numpy as np\n"
   ]
  },
  {
   "cell_type": "code",
   "execution_count": null,
   "id": "4f60a825-5850-424e-9b1b-03ffba0f7ca3",
   "metadata": {},
   "outputs": [],
   "source": [
    "transactions_data_path=\"kaggle_data/enhanced_transactions.csv\""
   ]
  },
  {
   "cell_type": "code",
   "execution_count": null,
   "id": "8a7c0203-ecb9-4ad7-896c-2e0d242e9f60",
   "metadata": {},
   "outputs": [],
   "source": [
    "trans_columns=['customer_id','t_dat','article_id','product_type_name']"
   ]
  },
  {
   "cell_type": "code",
   "execution_count": null,
   "id": "03373c3b-42cc-40fd-b520-da8743055099",
   "metadata": {},
   "outputs": [],
   "source": [
    "\n",
    "trans=pd.read_csv(transactions_data_path,usecols = trans_columns)"
   ]
  },
  {
   "cell_type": "code",
   "execution_count": null,
   "id": "e0b29c50-d898-42f4-a547-d55bb8d63626",
   "metadata": {},
   "outputs": [],
   "source": []
  }
 ],
 "metadata": {
  "environment": {
   "kernel": "python3",
   "name": "pytorch-gpu.1-13.m103",
   "type": "gcloud",
   "uri": "gcr.io/deeplearning-platform-release/pytorch-gpu.1-13:m103"
  },
  "kernelspec": {
   "display_name": "Python 3 (ipykernel)",
   "language": "python",
   "name": "python3"
  },
  "language_info": {
   "codemirror_mode": {
    "name": "ipython",
    "version": 3
   },
   "file_extension": ".py",
   "mimetype": "text/x-python",
   "name": "python",
   "nbconvert_exporter": "python",
   "pygments_lexer": "ipython3",
   "version": "3.7.12"
  }
 },
 "nbformat": 4,
 "nbformat_minor": 5
}

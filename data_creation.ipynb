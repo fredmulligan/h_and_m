{
 "cells": [
  {
   "cell_type": "code",
   "execution_count": 1,
   "id": "dff08889-14a4-4fb0-9547-999f3a6a965a",
   "metadata": {},
   "outputs": [],
   "source": [
    "import pandas as pd\n",
    "import matplotlib.pyplot as plt\n",
    "import seaborn as sns\n",
    "import numpy as np\n",
    "import os\n"
   ]
  },
  {
   "cell_type": "code",
   "execution_count": 2,
   "id": "144e6d90-d91c-4988-99ee-6848d1b9bc62",
   "metadata": {},
   "outputs": [
    {
     "data": {
      "text/plain": [
       "t_dat          datetime64[ns]\n",
       "customer_id            object\n",
       "article_id              int64\n",
       "dtype: object"
      ]
     },
     "execution_count": 2,
     "metadata": {},
     "output_type": "execute_result"
    }
   ],
   "source": [
    "column_names = ['t_dat', 'article_id','customer_id']\n",
    "enhanced_transactions_path = \"kaggle_data/enhanced_transactions.csv\"\n",
    "enhanced_transactions = pd.read_csv(enhanced_transactions_path, usecols=column_names)\n",
    "enhanced_transactions['t_dat']=enhanced_transactions['t_dat'].astype('datetime64[ns]')\n",
    "enhanced_transactions.dtypes"
   ]
  },
  {
   "cell_type": "code",
   "execution_count": 16,
   "id": "6418cb22-653f-4323-b936-359c493dc695",
   "metadata": {},
   "outputs": [
    {
     "data": {
      "text/html": [
       "<div>\n",
       "<style scoped>\n",
       "    .dataframe tbody tr th:only-of-type {\n",
       "        vertical-align: middle;\n",
       "    }\n",
       "\n",
       "    .dataframe tbody tr th {\n",
       "        vertical-align: top;\n",
       "    }\n",
       "\n",
       "    .dataframe thead th {\n",
       "        text-align: right;\n",
       "    }\n",
       "</style>\n",
       "<table border=\"1\" class=\"dataframe\">\n",
       "  <thead>\n",
       "    <tr style=\"text-align: right;\">\n",
       "      <th></th>\n",
       "      <th>t_dat</th>\n",
       "      <th>article_id</th>\n",
       "    </tr>\n",
       "  </thead>\n",
       "  <tbody>\n",
       "    <tr>\n",
       "      <th>22</th>\n",
       "      <td>2020-07-31</td>\n",
       "      <td>1351502</td>\n",
       "    </tr>\n",
       "    <tr>\n",
       "      <th>23</th>\n",
       "      <td>2020-08-31</td>\n",
       "      <td>1237192</td>\n",
       "    </tr>\n",
       "    <tr>\n",
       "      <th>24</th>\n",
       "      <td>2020-09-30</td>\n",
       "      <td>798269</td>\n",
       "    </tr>\n",
       "  </tbody>\n",
       "</table>\n",
       "</div>"
      ],
      "text/plain": [
       "        t_dat  article_id\n",
       "22 2020-07-31     1351502\n",
       "23 2020-08-31     1237192\n",
       "24 2020-09-30      798269"
      ]
     },
     "execution_count": 16,
     "metadata": {},
     "output_type": "execute_result"
    }
   ],
   "source": [
    "articles_over_time = (\n",
    "                enhanced_transactions\n",
    "                .groupby(pd.Grouper(key='t_dat',freq='M')) \n",
    "                .agg({'article_id':'count'})      \n",
    "                .reset_index()\n",
    "        )\n",
    "articles_over_time.tail(3)"
   ]
  },
  {
   "cell_type": "code",
   "execution_count": 31,
   "id": "64a69be2-7f6d-4d59-ab03-e3dc7b84ff1a",
   "metadata": {},
   "outputs": [
    {
     "data": {
      "text/html": [
       "<div>\n",
       "<style scoped>\n",
       "    .dataframe tbody tr th:only-of-type {\n",
       "        vertical-align: middle;\n",
       "    }\n",
       "\n",
       "    .dataframe tbody tr th {\n",
       "        vertical-align: top;\n",
       "    }\n",
       "\n",
       "    .dataframe thead th {\n",
       "        text-align: right;\n",
       "    }\n",
       "</style>\n",
       "<table border=\"1\" class=\"dataframe\">\n",
       "  <thead>\n",
       "    <tr style=\"text-align: right;\">\n",
       "      <th></th>\n",
       "      <th>t_dat</th>\n",
       "      <th>customer_id</th>\n",
       "      <th>article_id</th>\n",
       "    </tr>\n",
       "  </thead>\n",
       "  <tbody>\n",
       "    <tr>\n",
       "      <th>0</th>\n",
       "      <td>2020-07-16</td>\n",
       "      <td>4f0ea2048ef3b98c167336ae2be6f75628f7ed91cefdf1...</td>\n",
       "      <td>664421002</td>\n",
       "    </tr>\n",
       "    <tr>\n",
       "      <th>1</th>\n",
       "      <td>2020-06-17</td>\n",
       "      <td>0036a44bd648ce2dbc32688a465b9628b7a78395302f26...</td>\n",
       "      <td>553139001</td>\n",
       "    </tr>\n",
       "    <tr>\n",
       "      <th>2</th>\n",
       "      <td>2020-07-27</td>\n",
       "      <td>c4ab4070fd612f4e001e3780529c7d04bde18afc57f29a...</td>\n",
       "      <td>553139001</td>\n",
       "    </tr>\n",
       "    <tr>\n",
       "      <th>3</th>\n",
       "      <td>2020-06-01</td>\n",
       "      <td>28a2d40a52761cdb60a36a6c533003b51a4c7228fd7467...</td>\n",
       "      <td>377277001</td>\n",
       "    </tr>\n",
       "    <tr>\n",
       "      <th>4</th>\n",
       "      <td>2020-06-01</td>\n",
       "      <td>6841b4b3203f04a14d5bdfa64b6615bc23475ed3fd215f...</td>\n",
       "      <td>377277001</td>\n",
       "    </tr>\n",
       "    <tr>\n",
       "      <th>...</th>\n",
       "      <td>...</td>\n",
       "      <td>...</td>\n",
       "      <td>...</td>\n",
       "    </tr>\n",
       "    <tr>\n",
       "      <th>5151465</th>\n",
       "      <td>2020-09-22</td>\n",
       "      <td>ec794d6268ee3c75b5bbea014e3299d994bcd1180ecf6d...</td>\n",
       "      <td>860135008</td>\n",
       "    </tr>\n",
       "    <tr>\n",
       "      <th>5151466</th>\n",
       "      <td>2020-09-22</td>\n",
       "      <td>ec794d6268ee3c75b5bbea014e3299d994bcd1180ecf6d...</td>\n",
       "      <td>539060028</td>\n",
       "    </tr>\n",
       "    <tr>\n",
       "      <th>5151467</th>\n",
       "      <td>2020-09-22</td>\n",
       "      <td>ec794d6268ee3c75b5bbea014e3299d994bcd1180ecf6d...</td>\n",
       "      <td>539060028</td>\n",
       "    </tr>\n",
       "    <tr>\n",
       "      <th>5151468</th>\n",
       "      <td>2020-09-22</td>\n",
       "      <td>ee9c048de16034be4aa95c91adce7f7bda442e6528406e...</td>\n",
       "      <td>810737015</td>\n",
       "    </tr>\n",
       "    <tr>\n",
       "      <th>5151469</th>\n",
       "      <td>2020-09-22</td>\n",
       "      <td>f79e372e21c1359dfebc7da0bf7f321d55e47b3275c351...</td>\n",
       "      <td>533261032</td>\n",
       "    </tr>\n",
       "  </tbody>\n",
       "</table>\n",
       "<p>5151470 rows × 3 columns</p>\n",
       "</div>"
      ],
      "text/plain": [
       "             t_dat                                        customer_id  \\\n",
       "0       2020-07-16  4f0ea2048ef3b98c167336ae2be6f75628f7ed91cefdf1...   \n",
       "1       2020-06-17  0036a44bd648ce2dbc32688a465b9628b7a78395302f26...   \n",
       "2       2020-07-27  c4ab4070fd612f4e001e3780529c7d04bde18afc57f29a...   \n",
       "3       2020-06-01  28a2d40a52761cdb60a36a6c533003b51a4c7228fd7467...   \n",
       "4       2020-06-01  6841b4b3203f04a14d5bdfa64b6615bc23475ed3fd215f...   \n",
       "...            ...                                                ...   \n",
       "5151465 2020-09-22  ec794d6268ee3c75b5bbea014e3299d994bcd1180ecf6d...   \n",
       "5151466 2020-09-22  ec794d6268ee3c75b5bbea014e3299d994bcd1180ecf6d...   \n",
       "5151467 2020-09-22  ec794d6268ee3c75b5bbea014e3299d994bcd1180ecf6d...   \n",
       "5151468 2020-09-22  ee9c048de16034be4aa95c91adce7f7bda442e6528406e...   \n",
       "5151469 2020-09-22  f79e372e21c1359dfebc7da0bf7f321d55e47b3275c351...   \n",
       "\n",
       "         article_id  \n",
       "0         664421002  \n",
       "1         553139001  \n",
       "2         553139001  \n",
       "3         377277001  \n",
       "4         377277001  \n",
       "...             ...  \n",
       "5151465   860135008  \n",
       "5151466   539060028  \n",
       "5151467   539060028  \n",
       "5151468   810737015  \n",
       "5151469   533261032  \n",
       "\n",
       "[5151470 rows x 3 columns]"
      ]
     },
     "execution_count": 31,
     "metadata": {},
     "output_type": "execute_result"
    }
   ],
   "source": [
    "data_last_four_months = (\n",
    "                enhanced_transactions\n",
    "                .query(\"t_dat>='2020-06-01'\")\n",
    "                .reset_index(drop=True)\n",
    "        )\n",
    "\n",
    "data_last_four_months"
   ]
  },
  {
   "cell_type": "code",
   "execution_count": 29,
   "id": "963d55e0-e868-4a99-8b07-caa157d0a331",
   "metadata": {},
   "outputs": [],
   "source": [
    "path='kaggle_data/'\n",
    "data_last_four_months.to_csv(os.path.join(path,r'transactions_feb_on.csv'),index=False)"
   ]
  },
  {
   "cell_type": "code",
   "execution_count": 2,
   "id": "94a30a51-90e8-4388-a8fc-92abe0a022ff",
   "metadata": {},
   "outputs": [
    {
     "data": {
      "text/plain": [
       "t_dat          datetime64[ns]\n",
       "customer_id            object\n",
       "article_id              int64\n",
       "dtype: object"
      ]
     },
     "execution_count": 2,
     "metadata": {},
     "output_type": "execute_result"
    }
   ],
   "source": [
    "\n",
    "enhanced_transactions_path = \"kaggle_data/transactions_june_on.csv\"\n",
    "data_last_four_months = pd.read_csv(enhanced_transactions_path)\n",
    "data_last_four_months['t_dat']=data_last_four_months['t_dat'].astype('datetime64[ns]')\n",
    "data_last_four_months.dtypes"
   ]
  },
  {
   "cell_type": "code",
   "execution_count": null,
   "id": "6a5ebb8b-779a-4889-9dde-9c45f7763e53",
   "metadata": {},
   "outputs": [],
   "source": []
  },
  {
   "cell_type": "code",
   "execution_count": 3,
   "id": "1927fb74-d264-4292-8316-8b267c304855",
   "metadata": {},
   "outputs": [
    {
     "data": {
      "text/html": [
       "<div>\n",
       "<style scoped>\n",
       "    .dataframe tbody tr th:only-of-type {\n",
       "        vertical-align: middle;\n",
       "    }\n",
       "\n",
       "    .dataframe tbody tr th {\n",
       "        vertical-align: top;\n",
       "    }\n",
       "\n",
       "    .dataframe thead th {\n",
       "        text-align: right;\n",
       "    }\n",
       "</style>\n",
       "<table border=\"1\" class=\"dataframe\">\n",
       "  <thead>\n",
       "    <tr style=\"text-align: right;\">\n",
       "      <th></th>\n",
       "      <th>customer_id</th>\n",
       "      <th>t_dat</th>\n",
       "    </tr>\n",
       "  </thead>\n",
       "  <tbody>\n",
       "    <tr>\n",
       "      <th>0</th>\n",
       "      <td>b637a3e7d8b0caa947aaefd609b8d84a9ee962cf0a52a5...</td>\n",
       "      <td>391</td>\n",
       "    </tr>\n",
       "    <tr>\n",
       "      <th>1</th>\n",
       "      <td>4308983955108b3af43ec57f0557211e44462a56332383...</td>\n",
       "      <td>384</td>\n",
       "    </tr>\n",
       "    <tr>\n",
       "      <th>2</th>\n",
       "      <td>a3ab708684132c6bbd3dad7aa41f9b9c7d1c95d7d5cb1a...</td>\n",
       "      <td>364</td>\n",
       "    </tr>\n",
       "    <tr>\n",
       "      <th>3</th>\n",
       "      <td>98e6d2f440e7b29dc139b2e911f41adc1f814e09f16aca...</td>\n",
       "      <td>355</td>\n",
       "    </tr>\n",
       "    <tr>\n",
       "      <th>4</th>\n",
       "      <td>67931690bdf18d2e328854ae772cd5ce2505fdc1116469...</td>\n",
       "      <td>350</td>\n",
       "    </tr>\n",
       "    <tr>\n",
       "      <th>...</th>\n",
       "      <td>...</td>\n",
       "      <td>...</td>\n",
       "    </tr>\n",
       "    <tr>\n",
       "      <th>1995</th>\n",
       "      <td>f387b2b5405ee17f1cea31c1c4853e18dad39c855aab27...</td>\n",
       "      <td>72</td>\n",
       "    </tr>\n",
       "    <tr>\n",
       "      <th>1996</th>\n",
       "      <td>00944aac87d67eb28bb5d3b5dc02dafa6b34c821ff6a3b...</td>\n",
       "      <td>72</td>\n",
       "    </tr>\n",
       "    <tr>\n",
       "      <th>1997</th>\n",
       "      <td>af3b36cdb07fcc9cbe2eac1b37eef895bce102aa6d058e...</td>\n",
       "      <td>72</td>\n",
       "    </tr>\n",
       "    <tr>\n",
       "      <th>1998</th>\n",
       "      <td>98ea85f10aeafb9b54d26a005d20db86fe790f18c60837...</td>\n",
       "      <td>72</td>\n",
       "    </tr>\n",
       "    <tr>\n",
       "      <th>1999</th>\n",
       "      <td>6a92a01c1d1304c5293e9b8649c0153df074980977fd69...</td>\n",
       "      <td>72</td>\n",
       "    </tr>\n",
       "  </tbody>\n",
       "</table>\n",
       "<p>2000 rows × 2 columns</p>\n",
       "</div>"
      ],
      "text/plain": [
       "                                            customer_id  t_dat\n",
       "0     b637a3e7d8b0caa947aaefd609b8d84a9ee962cf0a52a5...    391\n",
       "1     4308983955108b3af43ec57f0557211e44462a56332383...    384\n",
       "2     a3ab708684132c6bbd3dad7aa41f9b9c7d1c95d7d5cb1a...    364\n",
       "3     98e6d2f440e7b29dc139b2e911f41adc1f814e09f16aca...    355\n",
       "4     67931690bdf18d2e328854ae772cd5ce2505fdc1116469...    350\n",
       "...                                                 ...    ...\n",
       "1995  f387b2b5405ee17f1cea31c1c4853e18dad39c855aab27...     72\n",
       "1996  00944aac87d67eb28bb5d3b5dc02dafa6b34c821ff6a3b...     72\n",
       "1997  af3b36cdb07fcc9cbe2eac1b37eef895bce102aa6d058e...     72\n",
       "1998  98ea85f10aeafb9b54d26a005d20db86fe790f18c60837...     72\n",
       "1999  6a92a01c1d1304c5293e9b8649c0153df074980977fd69...     72\n",
       "\n",
       "[2000 rows x 2 columns]"
      ]
     },
     "execution_count": 3,
     "metadata": {},
     "output_type": "execute_result"
    }
   ],
   "source": [
    "top_recent_thousand = (\n",
    "                data_last_four_months\n",
    "                .groupby(['customer_id']) \n",
    "                .agg({'t_dat':'count'})\n",
    "                .sort_values(by=['t_dat'],ascending=False)\n",
    "                .head(2000)\n",
    "                .reset_index()\n",
    "        )\n",
    "\n",
    "top_recent_thousand"
   ]
  },
  {
   "cell_type": "code",
   "execution_count": 4,
   "id": "d7b6cdd8-5bed-4830-9e83-1b3bdb890ec9",
   "metadata": {},
   "outputs": [
    {
     "data": {
      "text/html": [
       "<div>\n",
       "<style scoped>\n",
       "    .dataframe tbody tr th:only-of-type {\n",
       "        vertical-align: middle;\n",
       "    }\n",
       "\n",
       "    .dataframe tbody tr th {\n",
       "        vertical-align: top;\n",
       "    }\n",
       "\n",
       "    .dataframe thead th {\n",
       "        text-align: right;\n",
       "    }\n",
       "</style>\n",
       "<table border=\"1\" class=\"dataframe\">\n",
       "  <thead>\n",
       "    <tr style=\"text-align: right;\">\n",
       "      <th></th>\n",
       "      <th>t_dat</th>\n",
       "      <th>customer_id</th>\n",
       "      <th>article_id</th>\n",
       "    </tr>\n",
       "  </thead>\n",
       "  <tbody>\n",
       "    <tr>\n",
       "      <th>0</th>\n",
       "      <td>2020-06-30</td>\n",
       "      <td>37b5bde74ea498ef1883bb21157ea0983f97f76fdf49d3...</td>\n",
       "      <td>377277001</td>\n",
       "    </tr>\n",
       "    <tr>\n",
       "      <th>1</th>\n",
       "      <td>2020-06-28</td>\n",
       "      <td>37b5bde74ea498ef1883bb21157ea0983f97f76fdf49d3...</td>\n",
       "      <td>153115020</td>\n",
       "    </tr>\n",
       "    <tr>\n",
       "      <th>2</th>\n",
       "      <td>2020-06-28</td>\n",
       "      <td>37b5bde74ea498ef1883bb21157ea0983f97f76fdf49d3...</td>\n",
       "      <td>153115020</td>\n",
       "    </tr>\n",
       "    <tr>\n",
       "      <th>3</th>\n",
       "      <td>2020-06-30</td>\n",
       "      <td>37b5bde74ea498ef1883bb21157ea0983f97f76fdf49d3...</td>\n",
       "      <td>377277002</td>\n",
       "    </tr>\n",
       "    <tr>\n",
       "      <th>4</th>\n",
       "      <td>2020-07-18</td>\n",
       "      <td>37b5bde74ea498ef1883bb21157ea0983f97f76fdf49d3...</td>\n",
       "      <td>741356001</td>\n",
       "    </tr>\n",
       "    <tr>\n",
       "      <th>...</th>\n",
       "      <td>...</td>\n",
       "      <td>...</td>\n",
       "      <td>...</td>\n",
       "    </tr>\n",
       "    <tr>\n",
       "      <th>203316</th>\n",
       "      <td>2020-08-07</td>\n",
       "      <td>cf40474e98504696f1610dea69afd33715b522f1461599...</td>\n",
       "      <td>924040001</td>\n",
       "    </tr>\n",
       "    <tr>\n",
       "      <th>203317</th>\n",
       "      <td>2020-08-28</td>\n",
       "      <td>cf40474e98504696f1610dea69afd33715b522f1461599...</td>\n",
       "      <td>918894001</td>\n",
       "    </tr>\n",
       "    <tr>\n",
       "      <th>203318</th>\n",
       "      <td>2020-08-28</td>\n",
       "      <td>cf40474e98504696f1610dea69afd33715b522f1461599...</td>\n",
       "      <td>915526002</td>\n",
       "    </tr>\n",
       "    <tr>\n",
       "      <th>203319</th>\n",
       "      <td>2020-08-28</td>\n",
       "      <td>cf40474e98504696f1610dea69afd33715b522f1461599...</td>\n",
       "      <td>757903024</td>\n",
       "    </tr>\n",
       "    <tr>\n",
       "      <th>203320</th>\n",
       "      <td>2020-08-28</td>\n",
       "      <td>cf40474e98504696f1610dea69afd33715b522f1461599...</td>\n",
       "      <td>816919009</td>\n",
       "    </tr>\n",
       "  </tbody>\n",
       "</table>\n",
       "<p>203321 rows × 3 columns</p>\n",
       "</div>"
      ],
      "text/plain": [
       "            t_dat                                        customer_id  \\\n",
       "0      2020-06-30  37b5bde74ea498ef1883bb21157ea0983f97f76fdf49d3...   \n",
       "1      2020-06-28  37b5bde74ea498ef1883bb21157ea0983f97f76fdf49d3...   \n",
       "2      2020-06-28  37b5bde74ea498ef1883bb21157ea0983f97f76fdf49d3...   \n",
       "3      2020-06-30  37b5bde74ea498ef1883bb21157ea0983f97f76fdf49d3...   \n",
       "4      2020-07-18  37b5bde74ea498ef1883bb21157ea0983f97f76fdf49d3...   \n",
       "...           ...                                                ...   \n",
       "203316 2020-08-07  cf40474e98504696f1610dea69afd33715b522f1461599...   \n",
       "203317 2020-08-28  cf40474e98504696f1610dea69afd33715b522f1461599...   \n",
       "203318 2020-08-28  cf40474e98504696f1610dea69afd33715b522f1461599...   \n",
       "203319 2020-08-28  cf40474e98504696f1610dea69afd33715b522f1461599...   \n",
       "203320 2020-08-28  cf40474e98504696f1610dea69afd33715b522f1461599...   \n",
       "\n",
       "        article_id  \n",
       "0        377277001  \n",
       "1        153115020  \n",
       "2        153115020  \n",
       "3        377277002  \n",
       "4        741356001  \n",
       "...            ...  \n",
       "203316   924040001  \n",
       "203317   918894001  \n",
       "203318   915526002  \n",
       "203319   757903024  \n",
       "203320   816919009  \n",
       "\n",
       "[203321 rows x 3 columns]"
      ]
     },
     "execution_count": 4,
     "metadata": {},
     "output_type": "execute_result"
    }
   ],
   "source": [
    "merged_df = pd.merge(data_last_four_months, top_recent_thousand['customer_id'], on='customer_id', how='inner')\n",
    "selected_rows = merged_df[data_last_four_months.columns]\n",
    "selected_rows"
   ]
  },
  {
   "cell_type": "code",
   "execution_count": 5,
   "id": "873a624c-8bf6-49f5-b8a4-b2d267f4d9db",
   "metadata": {},
   "outputs": [
    {
     "data": {
      "text/plain": [
       "t_dat            114\n",
       "customer_id     2000\n",
       "article_id     23394\n",
       "dtype: int64"
      ]
     },
     "execution_count": 5,
     "metadata": {},
     "output_type": "execute_result"
    }
   ],
   "source": [
    "selected_rows.nunique()"
   ]
  },
  {
   "cell_type": "code",
   "execution_count": 6,
   "id": "927d3134-2aca-452d-b9f7-22e0d99877b9",
   "metadata": {},
   "outputs": [
    {
     "data": {
      "text/plain": [
       "(203321, 3)"
      ]
     },
     "execution_count": 6,
     "metadata": {},
     "output_type": "execute_result"
    }
   ],
   "source": [
    "selected_rows.shape"
   ]
  },
  {
   "cell_type": "code",
   "execution_count": 7,
   "id": "0544ead3-f3e1-4ccc-946d-6aeac544f861",
   "metadata": {},
   "outputs": [
    {
     "data": {
      "text/html": [
       "<div>\n",
       "<style scoped>\n",
       "    .dataframe tbody tr th:only-of-type {\n",
       "        vertical-align: middle;\n",
       "    }\n",
       "\n",
       "    .dataframe tbody tr th {\n",
       "        vertical-align: top;\n",
       "    }\n",
       "\n",
       "    .dataframe thead th {\n",
       "        text-align: right;\n",
       "    }\n",
       "</style>\n",
       "<table border=\"1\" class=\"dataframe\">\n",
       "  <thead>\n",
       "    <tr style=\"text-align: right;\">\n",
       "      <th></th>\n",
       "      <th>t_dat</th>\n",
       "      <th>customer_id</th>\n",
       "      <th>article_id</th>\n",
       "    </tr>\n",
       "  </thead>\n",
       "  <tbody>\n",
       "    <tr>\n",
       "      <th>0</th>\n",
       "      <td>2020-06-30</td>\n",
       "      <td>37b5bde74ea498ef1883bb21157ea0983f97f76fdf49d3...</td>\n",
       "      <td>377277001</td>\n",
       "    </tr>\n",
       "    <tr>\n",
       "      <th>1</th>\n",
       "      <td>2020-06-28</td>\n",
       "      <td>37b5bde74ea498ef1883bb21157ea0983f97f76fdf49d3...</td>\n",
       "      <td>153115020</td>\n",
       "    </tr>\n",
       "  </tbody>\n",
       "</table>\n",
       "</div>"
      ],
      "text/plain": [
       "       t_dat                                        customer_id  article_id\n",
       "0 2020-06-30  37b5bde74ea498ef1883bb21157ea0983f97f76fdf49d3...   377277001\n",
       "1 2020-06-28  37b5bde74ea498ef1883bb21157ea0983f97f76fdf49d3...   153115020"
      ]
     },
     "execution_count": 7,
     "metadata": {},
     "output_type": "execute_result"
    }
   ],
   "source": [
    "df1 = selected_rows.drop_duplicates().reset_index(drop=True)\n",
    "df1.head(2)"
   ]
  },
  {
   "cell_type": "code",
   "execution_count": 8,
   "id": "1b84f82d-556f-48a5-bee9-d489dae54478",
   "metadata": {},
   "outputs": [
    {
     "data": {
      "text/plain": [
       "t_dat            114\n",
       "customer_id     2000\n",
       "article_id     23394\n",
       "dtype: int64"
      ]
     },
     "execution_count": 8,
     "metadata": {},
     "output_type": "execute_result"
    }
   ],
   "source": [
    "df1.nunique()"
   ]
  },
  {
   "cell_type": "code",
   "execution_count": 9,
   "id": "59242cc6-590f-4027-886b-252ae5b4cb82",
   "metadata": {},
   "outputs": [
    {
     "data": {
      "text/plain": [
       "(169775, 3)"
      ]
     },
     "execution_count": 9,
     "metadata": {},
     "output_type": "execute_result"
    }
   ],
   "source": [
    "df1.shape"
   ]
  },
  {
   "cell_type": "code",
   "execution_count": 13,
   "id": "6ce9e5bc-61f4-4eef-8cdc-96eb5977d131",
   "metadata": {},
   "outputs": [
    {
     "ename": "KeyError",
     "evalue": "'customer'",
     "output_type": "error",
     "traceback": [
      "\u001b[0;31m---------------------------------------------------------------------------\u001b[0m",
      "\u001b[0;31mKeyError\u001b[0m                                  Traceback (most recent call last)",
      "\u001b[0;32m/opt/conda/lib/python3.7/site-packages/pandas/core/indexes/base.py\u001b[0m in \u001b[0;36mget_loc\u001b[0;34m(self, key, method, tolerance)\u001b[0m\n\u001b[1;32m   3360\u001b[0m             \u001b[0;32mtry\u001b[0m\u001b[0;34m:\u001b[0m\u001b[0;34m\u001b[0m\u001b[0;34m\u001b[0m\u001b[0m\n\u001b[0;32m-> 3361\u001b[0;31m                 \u001b[0;32mreturn\u001b[0m \u001b[0mself\u001b[0m\u001b[0;34m.\u001b[0m\u001b[0m_engine\u001b[0m\u001b[0;34m.\u001b[0m\u001b[0mget_loc\u001b[0m\u001b[0;34m(\u001b[0m\u001b[0mcasted_key\u001b[0m\u001b[0;34m)\u001b[0m\u001b[0;34m\u001b[0m\u001b[0;34m\u001b[0m\u001b[0m\n\u001b[0m\u001b[1;32m   3362\u001b[0m             \u001b[0;32mexcept\u001b[0m \u001b[0mKeyError\u001b[0m \u001b[0;32mas\u001b[0m \u001b[0merr\u001b[0m\u001b[0;34m:\u001b[0m\u001b[0;34m\u001b[0m\u001b[0;34m\u001b[0m\u001b[0m\n",
      "\u001b[0;32m/opt/conda/lib/python3.7/site-packages/pandas/_libs/index.pyx\u001b[0m in \u001b[0;36mpandas._libs.index.IndexEngine.get_loc\u001b[0;34m()\u001b[0m\n",
      "\u001b[0;32m/opt/conda/lib/python3.7/site-packages/pandas/_libs/index.pyx\u001b[0m in \u001b[0;36mpandas._libs.index.IndexEngine.get_loc\u001b[0;34m()\u001b[0m\n",
      "\u001b[0;32mpandas/_libs/hashtable_class_helper.pxi\u001b[0m in \u001b[0;36mpandas._libs.hashtable.PyObjectHashTable.get_item\u001b[0;34m()\u001b[0m\n",
      "\u001b[0;32mpandas/_libs/hashtable_class_helper.pxi\u001b[0m in \u001b[0;36mpandas._libs.hashtable.PyObjectHashTable.get_item\u001b[0;34m()\u001b[0m\n",
      "\u001b[0;31mKeyError\u001b[0m: 'customer'",
      "\nThe above exception was the direct cause of the following exception:\n",
      "\u001b[0;31mKeyError\u001b[0m                                  Traceback (most recent call last)",
      "\u001b[0;32m/var/tmp/ipykernel_25032/1811855052.py\u001b[0m in \u001b[0;36m<module>\u001b[0;34m\u001b[0m\n\u001b[0;32m----> 1\u001b[0;31m \u001b[0mcustomers\u001b[0m\u001b[0;34m=\u001b[0m\u001b[0mset\u001b[0m\u001b[0;34m(\u001b[0m\u001b[0mdf1\u001b[0m\u001b[0;34m[\u001b[0m\u001b[0;34m'customer'\u001b[0m\u001b[0;34m]\u001b[0m\u001b[0;34m)\u001b[0m\u001b[0;34m\u001b[0m\u001b[0;34m\u001b[0m\u001b[0m\n\u001b[0m\u001b[1;32m      2\u001b[0m \u001b[0mj\u001b[0m\u001b[0;34m=\u001b[0m\u001b[0;36m0\u001b[0m\u001b[0;34m\u001b[0m\u001b[0;34m\u001b[0m\u001b[0m\n\u001b[1;32m      3\u001b[0m \u001b[0mfo\u001b[0m\u001b[0;34m\u001b[0m\u001b[0;34m\u001b[0m\u001b[0m\n\u001b[1;32m      4\u001b[0m \u001b[0mcustomersr\u001b[0m\u001b[0;31m# for i in customers:\u001b[0m\u001b[0;34m\u001b[0m\u001b[0;34m\u001b[0m\u001b[0m\n\u001b[1;32m      5\u001b[0m \u001b[0;31m#     pass\u001b[0m\u001b[0;34m\u001b[0m\u001b[0;34m\u001b[0m\u001b[0;34m\u001b[0m\u001b[0m\n",
      "\u001b[0;32m/opt/conda/lib/python3.7/site-packages/pandas/core/frame.py\u001b[0m in \u001b[0;36m__getitem__\u001b[0;34m(self, key)\u001b[0m\n\u001b[1;32m   3456\u001b[0m             \u001b[0;32mif\u001b[0m \u001b[0mself\u001b[0m\u001b[0;34m.\u001b[0m\u001b[0mcolumns\u001b[0m\u001b[0;34m.\u001b[0m\u001b[0mnlevels\u001b[0m \u001b[0;34m>\u001b[0m \u001b[0;36m1\u001b[0m\u001b[0;34m:\u001b[0m\u001b[0;34m\u001b[0m\u001b[0;34m\u001b[0m\u001b[0m\n\u001b[1;32m   3457\u001b[0m                 \u001b[0;32mreturn\u001b[0m \u001b[0mself\u001b[0m\u001b[0;34m.\u001b[0m\u001b[0m_getitem_multilevel\u001b[0m\u001b[0;34m(\u001b[0m\u001b[0mkey\u001b[0m\u001b[0;34m)\u001b[0m\u001b[0;34m\u001b[0m\u001b[0;34m\u001b[0m\u001b[0m\n\u001b[0;32m-> 3458\u001b[0;31m             \u001b[0mindexer\u001b[0m \u001b[0;34m=\u001b[0m \u001b[0mself\u001b[0m\u001b[0;34m.\u001b[0m\u001b[0mcolumns\u001b[0m\u001b[0;34m.\u001b[0m\u001b[0mget_loc\u001b[0m\u001b[0;34m(\u001b[0m\u001b[0mkey\u001b[0m\u001b[0;34m)\u001b[0m\u001b[0;34m\u001b[0m\u001b[0;34m\u001b[0m\u001b[0m\n\u001b[0m\u001b[1;32m   3459\u001b[0m             \u001b[0;32mif\u001b[0m \u001b[0mis_integer\u001b[0m\u001b[0;34m(\u001b[0m\u001b[0mindexer\u001b[0m\u001b[0;34m)\u001b[0m\u001b[0;34m:\u001b[0m\u001b[0;34m\u001b[0m\u001b[0;34m\u001b[0m\u001b[0m\n\u001b[1;32m   3460\u001b[0m                 \u001b[0mindexer\u001b[0m \u001b[0;34m=\u001b[0m \u001b[0;34m[\u001b[0m\u001b[0mindexer\u001b[0m\u001b[0;34m]\u001b[0m\u001b[0;34m\u001b[0m\u001b[0;34m\u001b[0m\u001b[0m\n",
      "\u001b[0;32m/opt/conda/lib/python3.7/site-packages/pandas/core/indexes/base.py\u001b[0m in \u001b[0;36mget_loc\u001b[0;34m(self, key, method, tolerance)\u001b[0m\n\u001b[1;32m   3361\u001b[0m                 \u001b[0;32mreturn\u001b[0m \u001b[0mself\u001b[0m\u001b[0;34m.\u001b[0m\u001b[0m_engine\u001b[0m\u001b[0;34m.\u001b[0m\u001b[0mget_loc\u001b[0m\u001b[0;34m(\u001b[0m\u001b[0mcasted_key\u001b[0m\u001b[0;34m)\u001b[0m\u001b[0;34m\u001b[0m\u001b[0;34m\u001b[0m\u001b[0m\n\u001b[1;32m   3362\u001b[0m             \u001b[0;32mexcept\u001b[0m \u001b[0mKeyError\u001b[0m \u001b[0;32mas\u001b[0m \u001b[0merr\u001b[0m\u001b[0;34m:\u001b[0m\u001b[0;34m\u001b[0m\u001b[0;34m\u001b[0m\u001b[0m\n\u001b[0;32m-> 3363\u001b[0;31m                 \u001b[0;32mraise\u001b[0m \u001b[0mKeyError\u001b[0m\u001b[0;34m(\u001b[0m\u001b[0mkey\u001b[0m\u001b[0;34m)\u001b[0m \u001b[0;32mfrom\u001b[0m \u001b[0merr\u001b[0m\u001b[0;34m\u001b[0m\u001b[0;34m\u001b[0m\u001b[0m\n\u001b[0m\u001b[1;32m   3364\u001b[0m \u001b[0;34m\u001b[0m\u001b[0m\n\u001b[1;32m   3365\u001b[0m         \u001b[0;32mif\u001b[0m \u001b[0mis_scalar\u001b[0m\u001b[0;34m(\u001b[0m\u001b[0mkey\u001b[0m\u001b[0;34m)\u001b[0m \u001b[0;32mand\u001b[0m \u001b[0misna\u001b[0m\u001b[0;34m(\u001b[0m\u001b[0mkey\u001b[0m\u001b[0;34m)\u001b[0m \u001b[0;32mand\u001b[0m \u001b[0;32mnot\u001b[0m \u001b[0mself\u001b[0m\u001b[0;34m.\u001b[0m\u001b[0mhasnans\u001b[0m\u001b[0;34m:\u001b[0m\u001b[0;34m\u001b[0m\u001b[0;34m\u001b[0m\u001b[0m\n",
      "\u001b[0;31mKeyError\u001b[0m: 'customer'"
     ]
    }
   ],
   "source": [
    "customers=set(df1['customer'])\n",
    "j=0\n",
    "fo\n",
    "customersr# for i in customers:\n",
    "#     pass\n",
    "# i)j"
   ]
  },
  {
   "cell_type": "code",
   "execution_count": 88,
   "id": "5787e5d3-4eb4-4b7a-844d-01c8581fc68f",
   "metadata": {},
   "outputs": [
    {
     "data": {
      "text/plain": [
       "1998"
      ]
     },
     "execution_count": 88,
     "metadata": {},
     "output_type": "execute_result"
    }
   ],
   "source": [
    "all_article_ids=set(df1['article_id'])\n",
    "non_bought_items={}\n",
    "articless=0\n",
    "j=0\n",
    "for customer_id in customers:\n",
    "    bought_items = set(df1['article_id'][df1['customer_id'] == customer_id])\n",
    "    number_bought_items=len(bought_items)\n",
    "    articless+=number_bought_items\n",
    "    unbought_itmes = list(all_article_ids - bought_items)\n",
    "    non_bought_items[customer_id] = np.random.choice(unbought_itmes, size=number_bought_items, replace=False)\n",
    "    j=j+1\n",
    "j"
   ]
  },
  {
   "cell_type": "code",
   "execution_count": 78,
   "id": "af661669-d7b4-46a9-9e4c-22d55a36b529",
   "metadata": {},
   "outputs": [
    {
     "data": {
      "text/plain": [
       "12878289"
      ]
     },
     "execution_count": 78,
     "metadata": {},
     "output_type": "execute_result"
    }
   ],
   "source": [
    "articles=0\n",
    "for customer_id in cusomters:\n",
    "    articles+= len(non_bought_items[customer_id])\n",
    "articles"
   ]
  },
  {
   "cell_type": "code",
   "execution_count": 26,
   "id": "7370428f-e8a6-45ae-8071-3262bbe33061",
   "metadata": {},
   "outputs": [],
   "source": [
    "negative_samples = []\n",
    "for customer_id in cusomters:\n",
    "    negative_article_ids = non_bought_items[customer_id]\n",
    "    for negative_article_id in negative_article_ids:\n",
    "        negative_samples.append((customer_id, negative_article_id, 0))\n",
    "        "
   ]
  },
  {
   "cell_type": "code",
   "execution_count": 31,
   "id": "5d8428d3-4d3e-4ed2-981f-0ad2874eb08c",
   "metadata": {},
   "outputs": [],
   "source": [
    "positive_samples = [(customer_id, article_id, 1) for customer_id, article_id in zip(df1['customer_id'], df1['article_id'])]\n",
    "\n",
    "# combine positive and negative samples\n",
    "all_samples = positive_samples + negative_samples"
   ]
  },
  {
   "cell_type": "code",
   "execution_count": 43,
   "id": "d4bee795-829b-42c8-a278-2beed0d6dfab",
   "metadata": {},
   "outputs": [
    {
     "data": {
      "text/plain": [
       "142768"
      ]
     },
     "execution_count": 43,
     "metadata": {},
     "output_type": "execute_result"
    }
   ],
   "source": [
    "len(positive_samples)"
   ]
  },
  {
   "cell_type": "code",
   "execution_count": 45,
   "id": "a6c91a15-6e56-4549-9b83-2fbc65202e59",
   "metadata": {},
   "outputs": [
    {
     "data": {
      "text/plain": [
       "11366652"
      ]
     },
     "execution_count": 45,
     "metadata": {},
     "output_type": "execute_result"
    }
   ],
   "source": [
    "len(negative_samples)"
   ]
  },
  {
   "cell_type": "code",
   "execution_count": 34,
   "id": "5d271c83-2cc4-46ed-9571-1c92f5f2060c",
   "metadata": {},
   "outputs": [
    {
     "name": "stdout",
     "output_type": "stream",
     "text": [
      "                                         customer_id  article_id  label\n",
      "0  37b5bde74ea498ef1883bb21157ea0983f97f76fdf49d3...   377277001      1\n",
      "1  37b5bde74ea498ef1883bb21157ea0983f97f76fdf49d3...   377277002      1\n",
      "2  37b5bde74ea498ef1883bb21157ea0983f97f76fdf49d3...   741356001      1\n",
      "3  37b5bde74ea498ef1883bb21157ea0983f97f76fdf49d3...   741356004      1\n",
      "4  37b5bde74ea498ef1883bb21157ea0983f97f76fdf49d3...   741356004      1\n"
     ]
    }
   ],
   "source": [
    "import pandas as pd\n",
    "\n",
    "# assume `all_samples` is a list of tuples in the format (customer_id, article_id, label)\n",
    "\n",
    "# convert to pandas DataFrame\n",
    "df = pd.DataFrame(all_samples, columns=['customer_id', 'article_id', 'label'])\n"
   ]
  },
  {
   "cell_type": "code",
   "execution_count": 39,
   "id": "23229cd6-2c20-4741-a1d3-452b6c89b6ed",
   "metadata": {},
   "outputs": [
    {
     "data": {
      "text/plain": [
       "(11509420, 3)"
      ]
     },
     "execution_count": 39,
     "metadata": {},
     "output_type": "execute_result"
    }
   ],
   "source": [
    "df.shape"
   ]
  },
  {
   "cell_type": "code",
   "execution_count": null,
   "id": "b8d1b9db-9c33-4dd0-bc2e-c723dd6f1363",
   "metadata": {},
   "outputs": [
    {
     "name": "stdout",
     "output_type": "stream",
     "text": [
      "25000 iterations\n",
      "50000 iterations\n",
      "75000 iterations\n",
      "100000 iterations\n",
      "125000 iterations\n",
      "150000 iterations\n",
      "175000 iterations\n",
      "200000 iterations\n",
      "225000 iterations\n",
      "250000 iterations\n",
      "275000 iterations\n",
      "300000 iterations\n",
      "325000 iterations\n",
      "350000 iterations\n",
      "375000 iterations\n",
      "400000 iterations\n",
      "425000 iterations\n",
      "450000 iterations\n",
      "475000 iterations\n",
      "500000 iterations\n",
      "525000 iterations\n",
      "550000 iterations\n",
      "575000 iterations\n",
      "600000 iterations\n",
      "650000 iterations\n",
      "675000 iterations\n",
      "700000 iterations\n",
      "725000 iterations\n"
     ]
    }
   ],
   "source": [
    "# break_limit=3\n",
    "# breaks=0\n",
    "\n",
    "dict = {'customer_id':[],\n",
    "        'prediction':[]\n",
    "       }\n",
    "\n",
    "df = pd.DataFrame(dict)\n",
    "\n",
    "\n",
    "iterations=0\n",
    "\n",
    "\n",
    "\n",
    "for index, value in data_set['customer_id'].iteritems():\n",
    "    \n",
    "    df.loc[len(df.index)] = [value, top_artilces] \n",
    "    \n",
    "    iterations+=1\n",
    "    \n",
    "    if iterations%25000==0:\n",
    "        print(f'{iterations} iterations')\n",
    "\n",
    "    \n",
    "    # if breaks>=break_limit:\n",
    "    #     break\n",
    "    # breaks=breaks+1\n"
   ]
  },
  {
   "cell_type": "code",
   "execution_count": null,
   "id": "5a9796f9-8d2d-420a-9f0f-6cc1c94af035",
   "metadata": {},
   "outputs": [],
   "source": []
  },
  {
   "cell_type": "code",
   "execution_count": null,
   "id": "cda8a81e-7966-466d-b163-ad6c263ff887",
   "metadata": {},
   "outputs": [],
   "source": [
    "df.head()"
   ]
  },
  {
   "cell_type": "code",
   "execution_count": 23,
   "id": "cab5b9e0-3406-409c-ab21-eef4536b8193",
   "metadata": {},
   "outputs": [],
   "source": [
    "path='kaggle_data/'\n",
    "category_season_embedding=category_performance_per_month.reset_index()\n",
    "category_season_embedding.to_csv(os.path.join(path,r'cat_sea_embedding.csv'),index=False)"
   ]
  },
  {
   "cell_type": "code",
   "execution_count": 24,
   "id": "f055aa7d-11b3-4a45-ad01-00e90c4598e9",
   "metadata": {},
   "outputs": [
    {
     "data": {
      "text/plain": [
       "'751471001 918292001 706016001 448509014 751471043 915526001 916468003 896152002 915529003 866731001 850917001 706016003'"
      ]
     },
     "execution_count": 24,
     "metadata": {},
     "output_type": "execute_result"
    }
   ],
   "source": []
  },
  {
   "cell_type": "code",
   "execution_count": 25,
   "id": "2bfd8fde-50b9-4f91-b867-20ec60adfa12",
   "metadata": {},
   "outputs": [],
   "source": [
    "articles_over_time = (\n",
    "                enhanced_transactions\n",
    "                .groupby(pd.Grouper(key='t_dat',freq='M')) \n",
    "                .agg({'article_id':'count'})\n",
    "                \n",
    "                \n",
    "                \n",
    "                .reset_index()\n",
    "        )"
   ]
  },
  {
   "cell_type": "code",
   "execution_count": 27,
   "id": "16e69a6b-6286-4ca4-8128-3fb5bc6c1464",
   "metadata": {},
   "outputs": [],
   "source": [
    "data_set_path=\"kaggle_data/enhanced_transactions.csv\""
   ]
  },
  {
   "cell_type": "code",
   "execution_count": null,
   "id": "13952402-a57a-4099-ab35-3f92ab7d3606",
   "metadata": {},
   "outputs": [],
   "source": [
    "data_set=pd.read_csv(data_set_path)"
   ]
  },
  {
   "cell_type": "code",
   "execution_count": 1,
   "id": "d1766fe4-c7bd-45fa-b462-207a3ed23c99",
   "metadata": {},
   "outputs": [
    {
     "ename": "NameError",
     "evalue": "name 'data_set' is not defined",
     "output_type": "error",
     "traceback": [
      "\u001b[0;31m---------------------------------------------------------------------------\u001b[0m",
      "\u001b[0;31mNameError\u001b[0m                                 Traceback (most recent call last)",
      "\u001b[0;32m/var/tmp/ipykernel_11717/2497736820.py\u001b[0m in \u001b[0;36m<module>\u001b[0;34m\u001b[0m\n\u001b[0;32m----> 1\u001b[0;31m \u001b[0mdata_set\u001b[0m\u001b[0;34m.\u001b[0m\u001b[0mhead\u001b[0m\u001b[0;34m(\u001b[0m\u001b[0;34m)\u001b[0m\u001b[0;34m\u001b[0m\u001b[0;34m\u001b[0m\u001b[0m\n\u001b[0m",
      "\u001b[0;31mNameError\u001b[0m: name 'data_set' is not defined"
     ]
    }
   ],
   "source": [
    "data_set.head()"
   ]
  },
  {
   "cell_type": "code",
   "execution_count": 26,
   "id": "75641e6a-132a-48e9-902f-c6576c474537",
   "metadata": {},
   "outputs": [
    {
     "ename": "NameError",
     "evalue": "name 'data_set' is not defined",
     "output_type": "error",
     "traceback": [
      "\u001b[0;31m---------------------------------------------------------------------------\u001b[0m",
      "\u001b[0;31mNameError\u001b[0m                                 Traceback (most recent call last)",
      "\u001b[0;32m/var/tmp/ipykernel_11717/2882491876.py\u001b[0m in \u001b[0;36m<module>\u001b[0;34m\u001b[0m\n\u001b[1;32m     10\u001b[0m \u001b[0;34m\u001b[0m\u001b[0m\n\u001b[1;32m     11\u001b[0m \u001b[0;34m\u001b[0m\u001b[0m\n\u001b[0;32m---> 12\u001b[0;31m \u001b[0;32mfor\u001b[0m \u001b[0mindex\u001b[0m\u001b[0;34m,\u001b[0m \u001b[0mvalue\u001b[0m \u001b[0;32min\u001b[0m \u001b[0mdata_set\u001b[0m\u001b[0;34m[\u001b[0m\u001b[0;34m'customer_id'\u001b[0m\u001b[0;34m]\u001b[0m\u001b[0;34m.\u001b[0m\u001b[0miteritems\u001b[0m\u001b[0;34m(\u001b[0m\u001b[0;34m)\u001b[0m\u001b[0;34m:\u001b[0m\u001b[0;34m\u001b[0m\u001b[0;34m\u001b[0m\u001b[0m\n\u001b[0m\u001b[1;32m     13\u001b[0m     \u001b[0mprint\u001b[0m\u001b[0;34m(\u001b[0m\u001b[0mvalue\u001b[0m\u001b[0;34m)\u001b[0m\u001b[0;34m\u001b[0m\u001b[0;34m\u001b[0m\u001b[0m\n\u001b[1;32m     14\u001b[0m \u001b[0;34m\u001b[0m\u001b[0m\n",
      "\u001b[0;31mNameError\u001b[0m: name 'data_set' is not defined"
     ]
    }
   ],
   "source": []
  },
  {
   "cell_type": "code",
   "execution_count": 23,
   "id": "b11c0e19-2d61-41de-830b-795dce2bd688",
   "metadata": {},
   "outputs": [],
   "source": [
    "# break_limit=13\n",
    "\n",
    "# for column in df:\n",
    "#     print(df[column])\n",
    "    \n",
    "# breaks=0\n",
    "# for i, j in data_set.iterrows():\n",
    "#     print(i)\n",
    "#     print(j)\n",
    "#     if breaks>=break_limit:\n",
    "#         break\n",
    "#     breaks=breaks+1"
   ]
  },
  {
   "cell_type": "code",
   "execution_count": 31,
   "id": "29eeea3f-5410-4a56-b2a0-1f5029e8e8c5",
   "metadata": {},
   "outputs": [
    {
     "data": {
      "text/html": [
       "<div>\n",
       "<style scoped>\n",
       "    .dataframe tbody tr th:only-of-type {\n",
       "        vertical-align: middle;\n",
       "    }\n",
       "\n",
       "    .dataframe tbody tr th {\n",
       "        vertical-align: top;\n",
       "    }\n",
       "\n",
       "    .dataframe thead th {\n",
       "        text-align: right;\n",
       "    }\n",
       "</style>\n",
       "<table border=\"1\" class=\"dataframe\">\n",
       "  <thead>\n",
       "    <tr style=\"text-align: right;\">\n",
       "      <th></th>\n",
       "      <th>index</th>\n",
       "      <th>customer_id</th>\n",
       "      <th>prediction</th>\n",
       "    </tr>\n",
       "  </thead>\n",
       "  <tbody>\n",
       "  </tbody>\n",
       "</table>\n",
       "</div>"
      ],
      "text/plain": [
       "Empty DataFrame\n",
       "Columns: [index, customer_id, prediction]\n",
       "Index: []"
      ]
     },
     "metadata": {},
     "output_type": "display_data"
    }
   ],
   "source": [
    "dict = {'customer_id':[],\n",
    "        'prediction':[]\n",
    "       }\n",
    "  \n",
    "df = pd.DataFrame(dict)\n",
    "  \n",
    "display(df)\n",
    "  \n",
    "df.loc[len(df.index)] = ['value', 'blah'] "
   ]
  },
  {
   "cell_type": "code",
   "execution_count": null,
   "id": "f127b816-1c1f-4dc8-8190-7296a36905ff",
   "metadata": {},
   "outputs": [],
   "source": []
  }
 ],
 "metadata": {
  "environment": {
   "kernel": "python3",
   "name": "pytorch-gpu.1-13.m103",
   "type": "gcloud",
   "uri": "gcr.io/deeplearning-platform-release/pytorch-gpu.1-13:m103"
  },
  "kernelspec": {
   "display_name": "Python 3 (ipykernel)",
   "language": "python",
   "name": "python3"
  },
  "language_info": {
   "codemirror_mode": {
    "name": "ipython",
    "version": 3
   },
   "file_extension": ".py",
   "mimetype": "text/x-python",
   "name": "python",
   "nbconvert_exporter": "python",
   "pygments_lexer": "ipython3",
   "version": "3.7.12"
  }
 },
 "nbformat": 4,
 "nbformat_minor": 5
}
